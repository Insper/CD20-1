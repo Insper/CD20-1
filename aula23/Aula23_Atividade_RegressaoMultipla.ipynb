{
 "cells": [
  {
   "cell_type": "markdown",
   "metadata": {},
   "source": [
    "___\n",
    "\n",
    "# Atividade - Regressão Linear Múltipla\n",
    "\n",
    "## Aula 23\n",
    "___\n",
    "\n",
    "<div id=\"indice\"></div>\n",
    "\n",
    "## Índice\n",
    "\n",
    "- [Consumo de combustível em milhas por galão](#dataset)\n",
    "    - [Passo 1: Ajustando o modelo](#passo1)\n",
    "    - [Passo 2: Verificando os resultados dos testes de hipótese](#passo2)\n",
    "    - [Passo 3: Visualizando o modelo e os dados (com duas variáveis explicativas)](#passo3)\n",
    "- [Atividade](#atividade)\n",
    "    - [Exercício 1](#ex1)\n",
    "    - [Exercício 2](#ex2)\n",
    "    - [Exercício 3](#ex3)\n",
    "    - [Exercício 4](#ex4)\n",
    "    - [Exercício 5](#ex5)\n",
    "- [Referências](#referencias)\n",
    "\n",
    "___\n"
   ]
  },
  {
   "cell_type": "markdown",
   "metadata": {},
   "source": [
    "<div id=\"dataset\"></div>\n",
    "\n",
    "# Consumo de combustível em milhas por galão\n",
    "\n",
    "A atividade a realizar está no final, mas estude todo o *notebook*"
   ]
  },
  {
   "cell_type": "code",
   "execution_count": null,
   "metadata": {},
   "outputs": [],
   "source": [
    "%matplotlib notebook\n",
    "%reset -f\n",
    "\n",
    "\n",
    "import pandas as pd\n",
    "import numpy as np\n",
    "from scipy.stats import norm, probplot\n",
    "import statsmodels.api as sm\n",
    "import matplotlib.pyplot as plt\n",
    "from mpl_toolkits.mplot3d import Axes3D\n"
   ]
  },
  {
   "cell_type": "markdown",
   "metadata": {},
   "source": [
    "Vamos fazer uma análise exploratória sobre um dataset sobre carros.\n",
    "\n",
    "Fonte: [Auto MPG dataset](http://archive.ics.uci.edu/ml/datasets/Auto+MPG)\n",
    "\n",
    "<div id=\"regress\"></div>"
   ]
  },
  {
   "cell_type": "code",
   "execution_count": null,
   "metadata": {},
   "outputs": [],
   "source": [
    "### Função utilitária para fazer a regressão com constante adicionada\n",
    "def regress(X,Y):\n",
    "    '''\n",
    "    X: coluna(s) do DataFrame que serão utilizadas como variável(is) preditoras/explicativas (independente(s))\n",
    "    Y: coluna do DataFrame que será utilizada como variável resposta (dependente)\n",
    "    '''\n",
    "    X_cp = sm.add_constant(X)\n",
    "    model = sm.OLS(Y,X_cp)\n",
    "    results = model.fit()\n",
    "    return results"
   ]
  },
  {
   "cell_type": "code",
   "execution_count": null,
   "metadata": {},
   "outputs": [],
   "source": [
    "data = pd.read_csv(\"auto_mpg_sub.csv\")"
   ]
  },
  {
   "cell_type": "markdown",
   "metadata": {},
   "source": [
    "**Dicionário de dados:**\n",
    "\n",
    "\n",
    "Variável | Descrição\n",
    ":---:|---:\n",
    "mpg | consumo em miles per gallon\n",
    "cylinders | número de cilindros do motor do carro\n",
    "displacement | deslocamento dos cilindros em polegadas cúbicas\n",
    "horsepower | potência do veículo (HP)\n",
    "weight | peso do veículo (libras)\n",
    "acceleration | aceleração do veículo\n",
    "model year | ano do modelo\n",
    "origin | origem - veja abaixo\n",
    "car name | nome do carro\n",
    "\n",
    "A variável *origin* identifica o país de origem de um veículo\n",
    "\n",
    "Valor | Origem\n",
    ":---:|:---:\n",
    "1 | Estados Unidos da América\n",
    "2 | Europa\n",
    "3 | Japão"
   ]
  },
  {
   "cell_type": "code",
   "execution_count": null,
   "metadata": {
    "scrolled": true
   },
   "outputs": [],
   "source": [
    "data.columns"
   ]
  },
  {
   "cell_type": "markdown",
   "metadata": {},
   "source": [
    "**Vamos trabalhar apenas com as variáveis quantitativas desse dataset**"
   ]
  },
  {
   "cell_type": "code",
   "execution_count": null,
   "metadata": {},
   "outputs": [],
   "source": [
    "df = data[['mpg', 'cylinders', 'displacement', 'horsepower', 'weight', 'acceleration', 'model year']]"
   ]
  },
  {
   "cell_type": "code",
   "execution_count": null,
   "metadata": {},
   "outputs": [],
   "source": [
    "df.describe()"
   ]
  },
  {
   "cell_type": "markdown",
   "metadata": {},
   "source": [
    "Verificando valores nulos."
   ]
  },
  {
   "cell_type": "code",
   "execution_count": null,
   "metadata": {},
   "outputs": [],
   "source": [
    "np.sum(df.isnull())"
   ]
  },
  {
   "cell_type": "markdown",
   "metadata": {},
   "source": [
    "___\n",
    "\n",
    "<div id=\"passo1\"></div>\n",
    "\n",
    "### Passo 1: Ajustando o modelo\n",
    "\n",
    "Ajuste um modelo considerando Consumo como resposta (dependente) e as demais variáveis da base de dados como explicativas!\n",
    "\n",
    "Faça a separação das variáveis resposta e preditoras (explicativas):"
   ]
  },
  {
   "cell_type": "code",
   "execution_count": null,
   "metadata": {},
   "outputs": [],
   "source": [
    "X = df[['cylinders', 'displacement', 'horsepower', 'weight',\n",
    "       'acceleration', 'model year']]\n",
    "Y = df['mpg']"
   ]
  },
  {
   "cell_type": "markdown",
   "metadata": {},
   "source": [
    "Faça uso da função [`regress`](#regress) (que está neste *notebook* ) para fazer o ajuste:"
   ]
  },
  {
   "cell_type": "code",
   "execution_count": null,
   "metadata": {
    "scrolled": false
   },
   "outputs": [],
   "source": [
    "results = regress(X,Y)\n",
    "results.summary()"
   ]
  },
  {
   "cell_type": "markdown",
   "metadata": {},
   "source": [
    "___\n",
    "\n",
    "<div id=\"passo2\"></div>\n",
    "\n",
    "### Passo 2: Verificando os resultados dos testes de hipótese\n",
    "\n",
    "O que os valores $P > |t|$ dizem a respeito das variáveis preditoras usadas?\n"
   ]
  },
  {
   "cell_type": "markdown",
   "metadata": {},
   "source": [
    "**R.:**\n",
    "\n",
    "A coluna $P > |t|$ obtida do comando `results.summary()` refere-se ao valor *p* de cada variável explicativa utilizada para ajudar a compreender o comportamento da variável dependente `mpg` no caso do exemplo.\n",
    "\n",
    "No caso da regressão múltipla obtida no exemplo, das seis variáveis explicativas, apenas duas se mostram relevantes para explicar a variável `mpg` pois possui valor *p* menor do que 10% (maior nível de significância usualmente adotado na prática).\n",
    "Entretanto, como há muitas variáveis explicativas, o correto é utilizar algum método de seleção de variáveis. Em modelo de regressão linear, quando há suposição de erros normais, pode-se utilizar o método Stepwise. Vide alguns comentários de como fazê-lo no `Python´.\n",
    "\n",
    "https://stackoverflow.com/questions/15433372/stepwise-regression-in-python\n",
    "\n",
    "https://stackoverflow.com/questions/48071753/selecting-the-best-combination-of-variables-for-regression-model-based-on-reg-sc"
   ]
  },
  {
   "cell_type": "markdown",
   "metadata": {},
   "source": [
    "___\n",
    "\n",
    "<div id=\"passo3\"></div>\n",
    "\n",
    "### Passo 3: Visualizando o modelo e os dados (com duas variáveis explicativas)\n",
    "\n",
    "Observe como plotar os resultados de uma regressão múltipla quando há duas variáveis explicativas:"
   ]
  },
  {
   "cell_type": "code",
   "execution_count": null,
   "metadata": {
    "scrolled": true
   },
   "outputs": [],
   "source": [
    "# Obtém a regressão\n",
    "X3 = df[['cylinders',\n",
    "       'acceleration']]\n",
    "results3 = regress(X3, Y)\n",
    "results3.summary()"
   ]
  },
  {
   "cell_type": "code",
   "execution_count": null,
   "metadata": {},
   "outputs": [],
   "source": [
    "# Recupera os parâmetros calculados\n",
    "c = results3.params[\"const\"]\n",
    "w = results3.params[\"cylinders\"]\n",
    "y = results3.params[\"acceleration\"]"
   ]
  },
  {
   "cell_type": "code",
   "execution_count": null,
   "metadata": {},
   "outputs": [],
   "source": [
    "# Define uma função que aplica os parâmetros\n",
    "def f(cylinders, acc):\n",
    "    return c+w*cylinders + y*acc"
   ]
  },
  {
   "cell_type": "code",
   "execution_count": null,
   "metadata": {},
   "outputs": [],
   "source": [
    "# Gera 100 pontos entre os menores e maiores valores de cada variável \n",
    "npoints = 100\n",
    "cylinders = np.linspace(X3[\"cylinders\"].min(), X3[\"cylinders\"].max(), npoints)\n",
    "acc = np.linspace(X3[\"acceleration\"].min(), X3[\"acceleration\"].max(), npoints)\n"
   ]
  },
  {
   "cell_type": "code",
   "execution_count": null,
   "metadata": {},
   "outputs": [],
   "source": [
    "# Constrói uma grade de 100x100 pontos \n",
    "cylinders_xx, acc_yy = np.meshgrid(cylinders, acc)"
   ]
  },
  {
   "cell_type": "code",
   "execution_count": null,
   "metadata": {},
   "outputs": [],
   "source": [
    "# Aplica a função em cada ponto da grade\n",
    "z = f(cylinders_xx, acc_yy)"
   ]
  },
  {
   "cell_type": "code",
   "execution_count": null,
   "metadata": {},
   "outputs": [],
   "source": [
    "# Plota os pontos e o plano em 3D\n",
    "plt3d = plt.figure().gca(projection=\"3d\")\n",
    "plt3d.plot_surface(cylinders_xx, acc_yy, z)\n",
    "plt3d.scatter(X3[\"cylinders\"],X3[\"acceleration\"], Y , color=\"r\");"
   ]
  },
  {
   "cell_type": "markdown",
   "metadata": {},
   "source": [
    "___\n",
    "\n",
    "<div id=\"atividade\"></div>\n",
    "\n",
    "## Atividade"
   ]
  },
  {
   "cell_type": "markdown",
   "metadata": {},
   "source": [
    "Parece que as variáveis `cylinders` e `acceleration` não são as melhores escolhas para explicar a economia de combustível.\n",
    "\n",
    "Encontre $2$ variáveis melhores, gere o modelo via `OLS` e realize o plot 3D. Esse objetivo será atingido ao completarmos os exercícios a seguir."
   ]
  },
  {
   "cell_type": "markdown",
   "metadata": {},
   "source": [
    "<div id=\"ex1\"></div>\n",
    "\n",
    "### EXERCÍCIO 1\n",
    "\n",
    "Para encontrar as duas melhores variáveis que explicam a variável `mpg`, vamos aplicar o método *Backward Stepwise*. Esse método consiste em começar utilizando todas as variáveis disponíveis na regressão e remover as menos úteis para a explicação, de uma em uma, até sobrarem apenas duas. Para iniciar esse processo, ajuste um modelo linear com todas as variáveis disponíveis. **Dica**: isso já foi feito anteriormente nesta atividade e armazenado em uma variável. Você pode utilizar o mesmo resultado aqui."
   ]
  },
  {
   "cell_type": "code",
   "execution_count": null,
   "metadata": {},
   "outputs": [],
   "source": [
    "# ESCREVA SEU CÓDIGO AQUI"
   ]
  },
  {
   "cell_type": "markdown",
   "metadata": {},
   "source": [
    "<div id=\"ex2\"></div>\n",
    "\n",
    "### EXERCÍCIO 2\n",
    "\n",
    "Remova a variável com maior valor-p desde que não significante, ou seja, desde que seja maior do que o nível de significância (nesse caso, 10%)! No caso, verá que será removida a variável `horsepower`. Faça um novo ajuste de regressão sem essa variável! "
   ]
  },
  {
   "cell_type": "code",
   "execution_count": null,
   "metadata": {},
   "outputs": [],
   "source": [
    "# ESCREVA SEU CÓDIGO AQUI"
   ]
  },
  {
   "cell_type": "markdown",
   "metadata": {},
   "source": [
    "<div id=\"ex3\"></div>\n",
    "\n",
    "### EXERCÍCIO 3\n",
    "\n",
    "Do novo ajuste, verá que a variável `cylinders` possui maior valor-p > 10%. Faça novo ajuste sem essa variável. E assim sucessivamente até que todas as variáveis no modelo final tenham valor-p abaixo do nível de significância adotado (10%)."
   ]
  },
  {
   "cell_type": "code",
   "execution_count": null,
   "metadata": {},
   "outputs": [],
   "source": [
    "# ESCREVA SEU CÓDIGO AQUI"
   ]
  },
  {
   "cell_type": "markdown",
   "metadata": {},
   "source": [
    "<div id=\"ex4\"></div>\n",
    "\n",
    "### EXERCÍCIO 4\n",
    "\n",
    "Na prática, em cada passo para remoção de uma variável é necessário avaliar a validade das suposições do modelo. Por questão de tempo, nesta atividade vamos fazer a análise detalhada das suposições do modelo apenas com o modelo final.\n",
    "\n",
    "Utilizando os resultados da regressão com duas variáveis (modelo final), discuta se as suposições do modelo."
   ]
  },
  {
   "cell_type": "code",
   "execution_count": null,
   "metadata": {},
   "outputs": [],
   "source": [
    "# ESCREVA SUA RESPOSTA AQUI"
   ]
  },
  {
   "cell_type": "markdown",
   "metadata": {},
   "source": [
    "<div id=\"ex5\"></div>\n",
    "\n",
    "### EXERCÍCIO 5\n",
    "\n",
    "Faça o plot 3D com as duas variáveis relevantes para explicar a variável `mpg`. Note que podemos fazer isso apenas porque ambas possuem valor *p* < 10%."
   ]
  },
  {
   "cell_type": "code",
   "execution_count": null,
   "metadata": {},
   "outputs": [],
   "source": [
    "# ESCREVA SEU CÓDIGO AQUI"
   ]
  },
  {
   "cell_type": "markdown",
   "metadata": {},
   "source": [
    "**OBSERVAÇÃO**\n",
    "\n",
    "Note que se o modelo final ficasse com mais do que duas variáveis preditoras com valor *p* < 10%, então um gráfico 3D não seria adequado e nem informativo para conseguir avaliar o modelo ajustado sob os pontos!!"
   ]
  },
  {
   "cell_type": "markdown",
   "metadata": {},
   "source": [
    "# Referências\n",
    "\n",
    "1. Montogmery e Runger. Capítulo 12 - Regressão linear Múltipla\n",
    "1. Magalhães e Lima, seção 9.5. Regressão Linear Simples\n",
    "1. http://www.statsmodels.org/dev/diagnostic.html\n",
    "1. [http://connor-johnson.com/2014/02/18/linear-regression-with-python/](http://connor-johnson.com/2014/02/18/linear-regression-with-python/)\n"
   ]
  }
 ],
 "metadata": {
  "kernelspec": {
   "display_name": "Python 3",
   "language": "python",
   "name": "python3"
  },
  "language_info": {
   "codemirror_mode": {
    "name": "ipython",
    "version": 3
   },
   "file_extension": ".py",
   "mimetype": "text/x-python",
   "name": "python",
   "nbconvert_exporter": "python",
   "pygments_lexer": "ipython3",
   "version": "3.7.1"
  }
 },
 "nbformat": 4,
 "nbformat_minor": 2
}
