{
 "cells": [
  {
   "cell_type": "markdown",
   "metadata": {},
   "source": [
    "___\n",
    "# Exercícios: Teste de hipóteses para média populacional \n",
    "___\n",
    "\n",
    "## Aula 19 - Exercícios\n",
    "\n",
    "<div id=\"indice\"></div>\n",
    "\n",
    "## Índice\n",
    "\n",
    "- [Exercício 1](#ex1)\n",
    "- [Exercício 2](#ex2)\n",
    "- [Exercício 3](#ex3)\n",
    "- [Exercício 4](#ex4)\n",
    "- [Respostas](#respostas)\n",
    "___"
   ]
  },
  {
   "cell_type": "code",
   "execution_count": null,
   "metadata": {},
   "outputs": [],
   "source": [
    "from scipy import stats\n",
    "import numpy as np\n",
    "import pandas as pd\n",
    "import math\n",
    "import matplotlib.pyplot as plt\n",
    "%matplotlib inline"
   ]
  },
  {
   "cell_type": "markdown",
   "metadata": {},
   "source": [
    "<div id=\"ex1\"></div>\n",
    "\n",
    "### EXERCÍCIO 1\n",
    "\n",
    "Um estudo foi desenvolvido para avaliar o salário de empregadas domésticas na cidade de São Paulo. \n",
    "\n",
    "Foram sorteadas e entrevistadas $121$ trabalhadoras. Admita que o desvio padrão dessa variável na cidade é de 0,88 salários mínimos.\n",
    "\n",
    "Responda:\n",
    "\n",
    "**a.** Você conhece a distribuição do estimador $\\overline{X}$? Se não, é possível fazer alguma suposição?\n",
    "\n",
    "**b.** Desconfia-se que a média salarial seja superior a 2 salários mínimos. Baseado nessa informação, formule as hipóteses em termos do problema e em termos do parâmetro.\n",
    "\n",
    "**c.** Para um nível de significância de 2%, construa a RC.\n",
    "\n",
    "\n",
    "**d.** Se a amostra forneceu média de $2.38$ salários mínimos, qual a conclusão deste teste?\n",
    "\n",
    "**e.** Que suposições você fez para resolver os itens anteriores?\n",
    "\n",
    "[Respostas](#respostas)"
   ]
  },
  {
   "cell_type": "code",
   "execution_count": null,
   "metadata": {},
   "outputs": [],
   "source": [
    "# ESCREVA SEU CÓDIGO AQUI"
   ]
  },
  {
   "cell_type": "markdown",
   "metadata": {},
   "source": [
    "___\n",
    "\n",
    "<div id=\"ex2\"></div>\n",
    "\n",
    "### EXERCÍCIO 2\n",
    "\n",
    "A duração de pilhas falsificadas segue uma distribuição normal com média de $15 ut$ e variância $16 ut^2$. Pilhas autênticas têm uma duração média maior e mesmo desvio-padrão.  \n",
    "\n",
    "Um lote de pilhas apreendido será leiloado e para definir seu preço é preciso decidir se são produtos falsificados ou não. \n",
    "O leiloeiro adotou como regra de decisão que se a duração média de uma amostra aleatória de $16$ pilhas for maior que $18 ut$, o lote será considerado autêntico. Critique essa regra. \n",
    "\n",
    "[Respostas](#respostas)"
   ]
  },
  {
   "cell_type": "code",
   "execution_count": null,
   "metadata": {},
   "outputs": [],
   "source": [
    "# ESCREVA SUA RESPOSTA AQUI"
   ]
  },
  {
   "cell_type": "markdown",
   "metadata": {},
   "source": [
    "___\n",
    "\n",
    "<div id=\"ex3\"></div>\n",
    "\n",
    "### EXERCÍCIO 3\n",
    "\n",
    "Um estudo foi desenvolvido para avaliar a renda de pedreiros autônomos na cidade de São Paulo, o qual desconfia que a renda média seja superior a 3 salários mínimos. Admita que o desvio padrão dessa variável na cidade é de 0,7 salários mínimos. Foram sorteados e entrevistados 100 trabalhadores, cuja amostra forneceu média de 3,2 salários mínimos. \n",
    "\n",
    "**a.** Baseado nessa informação, formule as hipóteses H0 e H1 e interprete o erro do tipo I e erro do tipo II, sendo (erro I = rejeitar H0 | H0 verdade)  e (erro II = não rejeitar H0 | H0 falsa).\n",
    "\n",
    "**b.** Qual deve ser a conclusão do estudo considerando 1% de significância?\n",
    "\n",
    "**c.** Supondo que a hipótese nula seja verdadeira,  qual deve ser a probabilidade de observar um valor tão ou mais desfavorável à hipótese nula quanto a particular média amostral estimada. Qual a conclusão deste teste com 1% de significância?\n",
    "\n",
    "[Respostas](#respostas)"
   ]
  },
  {
   "cell_type": "code",
   "execution_count": null,
   "metadata": {},
   "outputs": [],
   "source": [
    "# ESCREVA SEU CÓDIGO AQUI"
   ]
  },
  {
   "cell_type": "markdown",
   "metadata": {},
   "source": [
    "___\n",
    "\n",
    "<div id=\"ex4\"></div>\n",
    "\n",
    "### EXERCÍCIO 4\n",
    "\n",
    "Em 2012, antes dos supermercados deixarem de distribuir sacolas plásticas gratuitamente para os consumidores, o consumo mensal de sacolas plásticas na cidade de São Paulo por adulto era, em média, de $25$ sacolas plásticas, com desvio padrão de $6$ unidades (valores populacionais). \n",
    "\n",
    "No mesmo ano, os estabelecimentos passaram a cobrar pelo uso das mesmas e depois voltaram atrás. Alguns anos se passaram e uma ONG da área de sustentabilidade deseja avaliar se essas idas e vindas deixaram o consumidor um pouco mais consciente com o meio ambiente. \n",
    "\n",
    "Para avaliar se consumo está mais consciente, verifique se o consumo de sacolas plásticas reduziu, em média, em mais do que $15\\%$ após todo esse período, ao nível de significância de $1\\%$?\n",
    "A ONG monitorou, por um mês, $100$ adultos moradores da cidade e observou que o consumo médio amostral de sacolas plásticas entre eles foi de $20.01$ unidades.\n",
    "\n",
    "[Respostas](#respostas)"
   ]
  },
  {
   "cell_type": "code",
   "execution_count": null,
   "metadata": {},
   "outputs": [],
   "source": [
    "# ESCREVA SUA RESPOSTA AQUI"
   ]
  },
  {
   "cell_type": "markdown",
   "metadata": {},
   "source": [
    "<div id=\"respostas\"></div>\n",
    "\n",
    "## Respostas\n",
    "\n",
    "### [Exercício 1](#ex1)\n",
    "\n",
    "#### b)\n",
    "\n",
    "Hipóteses em termos do problema:\n",
    "$H_0:$ a desconfiança não procede\n",
    "$H_1:$ desconfiança procede\n",
    "\n",
    "Ou seja:\n",
    "\n",
    "$H_0: \\mu \\leq 2$\n",
    "\n",
    "$H_1: \\mu > 2$\n",
    "\n",
    "#### c)\n",
    "\n",
    "$RC=\\{\\overline{x}_{obs} > 2.183\\}$\n",
    "\n",
    "#### d)\n",
    "\n",
    "Refutamos a hipótese nula\n",
    "\n",
    "### [Exercício 2](#ex2)\n",
    "\n",
    "A conclusão deve ser tirada a partir do cálculo do nível de significância: $\\alpha=0.13498980316301035\\%$\n",
    "\n",
    "### [Exercício 3](#ex3)\n",
    "\n",
    "#### a) \n",
    "\n",
    "$H_0: \\mu \\leq 3$ : a renda média é de 3 s.m\n",
    "\n",
    "$H_1: \\mu > 3$ : a renda média é superior a 3 s.m\n",
    "\n",
    "Vamos adaptar o quadro de erros do tipo 1 e tipo 2 fornecido anteriormente nesta tabela\n",
    "\n",
    "<table style=\"width:50%\" >\n",
    "<tr> <td>&nbsp;</td><td>H_0 é verdadeiro</td><td>H_0 é Falso</td></tr>\n",
    "    <tr> <td rowspan=2>Rejeito H_0</td> <td rowspan=2><b>Erro to tipo 1:</b> Rejeitar que a média salarial é 3 s.m quando na verdade ela de fato é 3 s.m</td><td rowspan=2>Decisão correta</td> </tr>\n",
    "<tr></tr>\n",
    "<tr><td rowspan=2>Não rejeito H_0</td><td rowspan=2>Decisão correta</td><td rowspan=2><b>Erro do tipo 2:</b> Concluir que a média salarial não é maior que 3 s.m quando na verdade ela é maior</td> </tr>\n",
    "<tr></tr>\n",
    "</table>\n",
    "\n",
    "#### b)\n",
    "\n",
    "$RC =\\{ {\\overline{x}_{obs}>3.162844351182859} \\}$\n",
    "\n",
    "#### c)\n",
    "\n",
    "O valor-$p$ é $0.2137366980086264\\%$, que é menor do que 1\\%.\n",
    "\n",
    "### [Exercício 4](#ex4)\n",
    "\n",
    "Hipóteses:\n",
    "\n",
    "$H_0: \\mu \\geq 21.25 $\n",
    "\n",
    "$H_1: \\mu < 21.25$\n",
    "\n",
    "Região Crítica:\n",
    "\n",
    "$RC = \\{ \\overline{x}_{obs} < 19.854 \\}$\n",
    "\n",
    "Não refutamos a hipótese nula (não diga \"aceitamos H0\")."
   ]
  }
 ],
 "metadata": {
  "kernelspec": {
   "display_name": "Python 3",
   "language": "python",
   "name": "python3"
  },
  "language_info": {
   "codemirror_mode": {
    "name": "ipython",
    "version": 3
   },
   "file_extension": ".py",
   "mimetype": "text/x-python",
   "name": "python",
   "nbconvert_exporter": "python",
   "pygments_lexer": "ipython3",
   "version": "3.7.1"
  }
 },
 "nbformat": 4,
 "nbformat_minor": 2
}
