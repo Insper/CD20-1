{
 "cells": [
  {
   "cell_type": "markdown",
   "metadata": {},
   "source": [
    "___\n",
    "# Exercícios: Combinação linear de variáveis aleatórias e propriedades de esperança e variância\n",
    "___\n",
    "\n",
    "## Aula 16 - APS\n",
    "\n",
    "<div id=\"indice\"></div>\n",
    "\n",
    "## Índice\n",
    "\n",
    "- [Exercício 1](#ex1)\n",
    "- [Exercício 2](#ex2)\n",
    "- [Exercício 3](#ex3)\n",
    "- [Exercício 4](#ex4)\n",
    "- [Exercício 5](#ex5)\n",
    "\n",
    "\n",
    "### Consulte o arquivo `Aula16_PropriedadesDeVariaveisAleatorias.ipynb` para consultas das propriedades de esperança e variância.\n",
    "___"
   ]
  },
  {
   "cell_type": "code",
   "execution_count": null,
   "metadata": {},
   "outputs": [],
   "source": [
    "import pandas as pd\n",
    "import numpy as np\n",
    "from scipy.stats import uniform, expon, norm\n",
    "import matplotlib.pyplot as plt\n",
    "%matplotlib inline"
   ]
  },
  {
   "cell_type": "markdown",
   "metadata": {},
   "source": [
    "___\n",
    "<div id=\"ex1\"></div>\n",
    "\n",
    "### EXERCÍCIO 1\n",
    "\n",
    "Um processo industrial pode ser executado em duas etapas independentes. O tempo gasto em cada etapa leva, em média, 5 horas com desvio padrão de 10 horas.\n",
    "\n",
    "Um engenheiro resolveu modificar o processo de produção fazendo com que seja executado numa única fase, cujo novo tempo de execução agora é o dobro da primeira etapa do processo atual.\n",
    "\n",
    "O novo processo proposto pelo engenheiro deve ser adotado?\n",
    "\n",
    "**Escolha a alternativa mais adequada na Questão 1 da APS 7, no Blackboard**."
   ]
  },
  {
   "cell_type": "code",
   "execution_count": null,
   "metadata": {},
   "outputs": [],
   "source": [
    "# ESCREVA SEU CÓDIGO AQUI"
   ]
  },
  {
   "cell_type": "markdown",
   "metadata": {},
   "source": [
    "___\n",
    "\" **Quanto custa em média?**\n",
    "\n",
    "O fluido de freio custa, em média, 50 reais. As pastilhas possuem variação alta: em um carro popular custa 80 reais o par, mas pode chegar a 500 reais em um importado. O par das lonas de freio custa 80 reais, o de tambor 180 reais e o de disco 250 reais.\" Extraído da [Revista Auto Esporte](https://revistaautoesporte.globo.com/Servico/autoajuda/noticia/2015/05/autoajuda-freios.html).\n",
    "\n",
    "___\n",
    "<div id=\"ex2\"></div>\n",
    "\n",
    "### EXERCÍCIO 2\n",
    "\n",
    "Com a reportagem acima, vimos que as pastilhas de freio têm preços variados, a depender de diversos fatores como marca do carro.\n",
    "\n",
    "Em uma determinada loja de autopeças, o preço médio das pastilhas de freio é de 112 reais, com um desvio-padrão associado a essa variável de 22 reais. \n",
    "\n",
    "Um pessoa entra nessa loja e deseja comprar três pastilhas de freio, sendo todas iguais.\n",
    "\n",
    "Qual o gasto total esperado dessa pessoa e respectivo desvio padrão?\n",
    "\n",
    "**Responda o valor esperado e desvio padrão na Questão 3 da APS 7, no Blackboard**."
   ]
  },
  {
   "cell_type": "code",
   "execution_count": null,
   "metadata": {},
   "outputs": [],
   "source": [
    "# ESCREVA SEU CÓDIGO AQUI"
   ]
  },
  {
   "cell_type": "markdown",
   "metadata": {},
   "source": [
    "___\n",
    "<div id=\"ex3\"></div>\n",
    "\n",
    "### EXERCÍCIO 3\n",
    "\n",
    "Com a reportagem acima, vimos que as pastilhas de freio têm preços variados, a depender de diversos fatores como marca do carro.\n",
    "\n",
    "Em uma determinada loja de autopeças, o preço médio das pastilhas de freio é de 112 reais, com um desvio-padrão associado a essa variável de 22 reais. \n",
    "\n",
    "Uma outra pessoa entra nessa loja e deseja comprar três pastilhas de freio, porém fará escolhas indenpendentes e não necessariamente iguais.\n",
    "Qual o gasto total esperado dessa outra pessoa e respectivo desvio padrão?\n",
    "\n",
    "\n",
    "\n",
    "**Responda o valor esperado e desvio padrão na Questão 4 da APS 7, no Blackboard**."
   ]
  },
  {
   "cell_type": "code",
   "execution_count": null,
   "metadata": {},
   "outputs": [],
   "source": [
    "# ESCREVA SEU CÓDIGO AQUI"
   ]
  },
  {
   "cell_type": "markdown",
   "metadata": {},
   "source": [
    "___\n",
    "<div id=\"ex4\"></div>\n",
    "\n",
    "### EXERCÍCIO 4\n",
    "\n",
    "Joãozinho sai de casa para comprar um notebook e um celular novos!\n",
    "\n",
    "O notebook tem preço médio de R$\\rm{$}$ 2.500,00, com desvio padrão igual a R$\\rm{\\$}$ 1.000,00.\n",
    "\n",
    "O celular tem preço médio de R$\\rm{$}$ 1.300,00, com desvio padrão igual a R$\\rm{$}$ 700,00.\n",
    "\n",
    "Assuma que os preços desses produtos sejam independentes.\n",
    "\n",
    "Joãozinho sabe que terá um gasto alto e, por isso, irá de ônibus. Com isso, deverá acrescentar mais R$\\rm{$}$40,00 de gasto.\n",
    "\n",
    "Qual o gasto esperado e respectivo desvio padrão de Joãozinho?\n",
    "\n",
    "\n",
    "**Responda o valor esperado e desvio padrão na Questão 5 da APS 7, no Blackboard**."
   ]
  },
  {
   "cell_type": "code",
   "execution_count": null,
   "metadata": {},
   "outputs": [],
   "source": [
    "# ESCREVA SEU CÓDIGO AQUI"
   ]
  },
  {
   "cell_type": "markdown",
   "metadata": {},
   "source": [
    "___\n",
    "<div id=\"ex5\"></div>\n",
    "\n",
    "### EXERCÍCIO 5\n",
    "\n",
    "Aninha é mãe de bebezinhos gêmeos.\n",
    "\n",
    "Ela sairá de casa para comprar uma roupa e um brinquedo para cada um.\n",
    "\n",
    "O preço médio da roupa é de R$\\rm{$}$ 60,00, com desvio padrão igual a R$\\rm{$}$ 15,00.\n",
    "\n",
    "O preço médio do brinquedo é de R$\\rm{$}$ 75,00, com desvio padrão igual a R$\\rm{$}$ 25,00.\n",
    "\n",
    "Assuma que esses produtos tenham preços variando de forma independente entre si.\n",
    "\n",
    "\n",
    "Aninha deseja comprar roupas iguais para os gêmeos, mas os brinquedos não necessariamente serão os mesmos.\n",
    "\n",
    "Nesse caso, qual o gasto esperado de Aninha e o respectivo desvio padrão?\n",
    "\n",
    "**Responda o valor esperado e desvio padrão na Questão 6 da APS 7, no Blackboard**."
   ]
  },
  {
   "cell_type": "code",
   "execution_count": null,
   "metadata": {},
   "outputs": [],
   "source": [
    "# ESCREVA SEU CÓDIGO AQUI"
   ]
  }
 ],
 "metadata": {
  "hide_input": false,
  "kernelspec": {
   "display_name": "Python 3",
   "language": "python",
   "name": "python3"
  },
  "language_info": {
   "codemirror_mode": {
    "name": "ipython",
    "version": 3
   },
   "file_extension": ".py",
   "mimetype": "text/x-python",
   "name": "python",
   "nbconvert_exporter": "python",
   "pygments_lexer": "ipython3",
   "version": "3.7.1"
  }
 },
 "nbformat": 4,
 "nbformat_minor": 4
}
