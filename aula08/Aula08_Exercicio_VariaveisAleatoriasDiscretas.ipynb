{
 "cells": [
  {
   "cell_type": "markdown",
   "metadata": {},
   "source": [
    "# Aula 09 - Variáveis aleatórias discretas\n",
    "___\n",
    "\n",
    "## Exercícios\n",
    "\n",
    "<div id=\"indice\"></div>\n",
    "\n",
    "## Índice\n",
    "\n",
    "  - [Exercício 1](#ex1)\n",
    "  - [Exercício 2](#ex2)\n",
    "  - [Exercício 3](#ex3)\n"
   ]
  },
  {
   "cell_type": "markdown",
   "metadata": {},
   "source": [
    "___\n",
    "<div id=\"ex1\"></div>\n",
    "\n",
    "### EXERCÍCIO 1\n",
    "\n",
    "Um rapaz está pensando em convidar sua namorada para sair. O problema é que as despesas correm por sua conta. \n",
    "\n",
    "Eles podem ir ao cinema ou ao teatro. 70% das vezes ela prefere ir ao cinema, nesse caso, ele gasta 70.00 com os ingressos. \n",
    "Quando eles vão ao teatro, o gasto fica em 190.00. \n",
    "\n",
    "Se eles forem ao cinema, ele sabe que em 80% das vezes ela pede para ir jantar, a despesa adicional do jantar fica em 130.00; 20% das vezes, eles vão direto para casa. \n",
    "\n",
    "Levando a namorada ao teatro, em 40% das vezes ela pede para ir jantar e 60% das vezes eles vão direto para casa. \n",
    "\n",
    "a) Qual a distribuição de probabilidades do gasto que o rapaz tem com a namorada? Use a letra $G$ para variável gasto do rapaz com a namorada."
   ]
  },
  {
   "cell_type": "markdown",
   "metadata": {},
   "source": [
    "Considere os eventos:\n",
    "\n",
    "  * $C$: ir ao cinema\n",
    "  * $T$: ir ao teatro (esse evento é complementar ao evento $C$). Ou seja, $T=C^c$.\n",
    "  * $J$: vão jantar\n",
    "  * $J^c$: não vão jantar\n"
   ]
  },
  {
   "cell_type": "markdown",
   "metadata": {},
   "source": [
    "ESCREVA SUA RESPOSTA AQUI"
   ]
  },
  {
   "cell_type": "markdown",
   "metadata": {},
   "source": [
    "b) Qual o gasto médio? E o seu desvio-padrão?"
   ]
  },
  {
   "cell_type": "code",
   "execution_count": null,
   "metadata": {},
   "outputs": [],
   "source": [
    "# ESCREVA SEU CÓDIGO AQUI"
   ]
  },
  {
   "cell_type": "markdown",
   "metadata": {},
   "source": [
    "c) Com a inflação deste ano, o gasto total aumentou até agora 9.00, mas com a crise geral, o casal resolveu reduzir esse novo gasto total em 15%. Calcule o novo gasto médio e respectivo desvio padrão. Chame o novo gasto de $Y$.\n",
    "\n",
    "**Na APS5, há uma pergunta sobre este item.**"
   ]
  },
  {
   "cell_type": "code",
   "execution_count": null,
   "metadata": {},
   "outputs": [],
   "source": [
    "# ESCREVA SEU CÓDIGO AQUI"
   ]
  },
  {
   "cell_type": "markdown",
   "metadata": {},
   "source": [
    "___\n",
    "<div id=\"ex2\"></div>\n",
    "\n",
    "### EXERCÍCIO 2 - extraído de Montgomery e Runger\n",
    "\n",
    "*Exercício 3-33*\n",
    "\n",
    "Um arranjo consiste em três componentes mecânicos.\n",
    "\n",
    "Suponha que as probabilidades de o primeiro, o segundo e o terceiro componentes satisfazerem as especificações sejam iguais a 0,95; 0,98 e 0,99.\n",
    "\n",
    "Considere que os componentes sejam independentes.\n",
    "\n",
    "Construa a distribuição de probabilidades do número de componentes no arranjo que satisfazem as especificações.\n"
   ]
  },
  {
   "cell_type": "markdown",
   "metadata": {},
   "source": [
    "ESCREVA SUA RESPOSTA AQUI"
   ]
  },
  {
   "cell_type": "code",
   "execution_count": null,
   "metadata": {},
   "outputs": [],
   "source": []
  },
  {
   "cell_type": "markdown",
   "metadata": {},
   "source": [
    "___\n",
    "<div id=\"ex3\"></div>\n",
    "\n",
    "### EXERCÍCIO 3 - extraído de Montgomery e Runger\n",
    "\n",
    "*Exercício 3-67*\n",
    "\n",
    "O sistema de controle aéreo, chamado PASS (Primary Avionics Software Set), do ônibus espacial uso quatro computadores independentes trabalhando em paralelo. \n",
    "\n",
    "Em cada etapa crítica, os computadores “votam” para determinar a etapa apropriada. A probabilidade de o computador pedir para manobrar para a esquerda quando uma manobra para a direita seria apropriada é de 0,0001. \n",
    "\n",
    "Seja X o número de computadores que votam em uma manobra para a esquerda quando uma manobra para a direita seria apropriada. \n",
    "\n",
    "Construa a distribuição de probabilidades de X. Calcule média e desvio padrão.\n",
    "\n",
    "**Na APS5, há uma pergunta sobre este item.**"
   ]
  },
  {
   "cell_type": "markdown",
   "metadata": {},
   "source": [
    "ESCREVA SUA RESPOSTA AQUI"
   ]
  },
  {
   "cell_type": "code",
   "execution_count": null,
   "metadata": {},
   "outputs": [],
   "source": [
    "# ESCREVA SEU CÓDIGO AQUI"
   ]
  }
 ],
 "metadata": {
  "kernelspec": {
   "display_name": "Python 3",
   "language": "python",
   "name": "python3"
  },
  "language_info": {
   "codemirror_mode": {
    "name": "ipython",
    "version": 3
   },
   "file_extension": ".py",
   "mimetype": "text/x-python",
   "name": "python",
   "nbconvert_exporter": "python",
   "pygments_lexer": "ipython3",
   "version": "3.7.1"
  }
 },
 "nbformat": 4,
 "nbformat_minor": 4
}
