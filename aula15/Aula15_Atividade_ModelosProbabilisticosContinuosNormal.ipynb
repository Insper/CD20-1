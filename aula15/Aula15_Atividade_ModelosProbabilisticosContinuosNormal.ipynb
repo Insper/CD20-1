{
 "cells": [
  {
   "cell_type": "markdown",
   "metadata": {},
   "source": [
    "___\n",
    "# Atividade: Modelos probabilísticos discretos e Dados\n",
    "___\n",
    "\n",
    "## Aula 15 - Atividade\n",
    "\n",
    "<div id=\"indice\"></div>\n",
    "\n",
    "## Índice\n",
    "\n",
    "- [Teoria: Distribuição Normal em Python](#teoria)\n",
    "- [Problema: Concentração de poluente em um tanque de combustível](#problema)\n",
    "    - [Modelo teórico](#modelo-teorico)\n",
    "        - [Exercício 1](#ex1)\n",
    "        - [Exercício 2](#ex2)\n",
    "        - [Exercício 3](#ex3)\n",
    "        - [Exercício 4](#ex4)\n",
    "    - [Resultados empíricos](#resultados-empiricos)\n",
    "        - [Exercício 5](#ex5)\n",
    "        - [Exercício 6](#ex6)\n",
    "    - [Comparação: resultados empíricos *vs* modelo teórico](#comparacao)\n",
    "        - [Exercício 7](#ex7)\n",
    "        - [Exercício 8](#ex8)\n",
    "        - [Exercício 9](#ex9)\n",
    "        - [Exercício 10](#ex10)\n",
    "- [Lista de comandos utilizados neste notebook](#comandos)"
   ]
  },
  {
   "cell_type": "code",
   "execution_count": null,
   "metadata": {},
   "outputs": [],
   "source": [
    "%matplotlib inline\n",
    "import pandas as pd\n",
    "import matplotlib.pyplot as plt\n",
    "import numpy as np\n",
    "\n",
    "from scipy import stats #importa apenas as funções de estatísticas da biblioteca SciPy."
   ]
  },
  {
   "cell_type": "markdown",
   "metadata": {},
   "source": [
    "___\n",
    "\n",
    "<div id=\"teoria\"></div>\n",
    "\n",
    "## Teoria: Distribuição Normal em Python\n",
    "\n",
    "![Caixa de galton](LegalTameChanticleer-size_restricted.gif)\n",
    "\n",
    "[Fonte: https://www.youtube.com/watch?v=UCmPmkHqHXk](https://www.youtube.com/watch?v=UCmPmkHqHXk&t=271s)\n",
    "\n",
    "A biblioteca SciPy está cheia de funções para nos ajudar a trabalhar com variáveis aleatórias! https://en.wikipedia.org/wiki/SciPy\n",
    "\n",
    "Algumas funções úteis para desenvolver seu código considerando a distribuição Normal: https://docs.scipy.org/doc/scipy/reference/generated/scipy.stats.norm.html\n",
    "\n",
    "Lembrando que vamos assumir que $X\\sim N(\\mu, \\sigma^2)$.\n",
    "\n",
    "Logo, faça `from scipy import stats`, então:\n",
    "\n",
    "* $f(x)$: `stats.norm.pdf(x, loc=mu, scale=sigma)`\n",
    "\n",
    "* $P(X\\leq x)$: `stats.norm.cdf(x, loc=mu, scale=sigma)`\n",
    "\n",
    "* $x$ tal que $q=P(X\\leq x)$: `stats.norm.ppf(q, loc=mu, scale=sigma)`\n",
    "\n",
    "* $E(X)$: `stats.norm.mean(loc=mu, scale=sigma)`\n",
    "\n",
    "* $Var(X)$: `stats.norm.var(loc=mu, scale=sigma)`\n",
    "\n",
    "* $DP(X)$: `stats.norm.std(loc=mu, scale=sigma)`\n",
    "\n",
    "___\n",
    "\n",
    "<div id=\"problema\"></div>\n",
    "\n",
    "# Problema: Concentração de poluente em um tanque de combustível\n",
    "\n",
    "A concentração (em $\\mu g/L$) de um determinado poluente em um tanque de combustível é modelada como uma normal com média 500 e variância 645.\n",
    "\n",
    "Nesse caso, vamos assumir que a variável aleatória contínua é dada por:\n",
    "\n",
    "- $X$: concentração do poluente em um tanque de combustível, em $\\mu g/L$.\n",
    "\n",
    "Pelo modelo teórico, temos: $X\\sim N(500, 645).$ Note que $\\sigma^2 = 645$, então devemos utilizar $\\sigma = \\sqrt{645}$ nas funções do `scipy.stats`."
   ]
  },
  {
   "cell_type": "markdown",
   "metadata": {},
   "source": [
    "<div id=\"modelo-teorico\"></div>\n",
    "\n",
    "## Modelo teórico\n",
    "\n",
    "<div id=\"ex1\"></div>\n",
    "\n",
    "### EXERCÍCIO 1\n",
    "\n",
    "Plote a função de densidade de probabilidade **e** a função cumulativa considerando o modelo utilizado. \n",
    "\n",
    "**Dica 1**: fizemos isso com a distribuição exponencial na Aula 12.\n",
    "\n",
    "**Dica 2**: utilize o intervalo entre 0 e 600 para os valores de $x$."
   ]
  },
  {
   "cell_type": "code",
   "execution_count": null,
   "metadata": {},
   "outputs": [],
   "source": [
    "# ESCREVA SEU CÓDIGO AQUI"
   ]
  },
  {
   "cell_type": "markdown",
   "metadata": {},
   "source": [
    "<div id=\"ex2\"></div>\n",
    "\n",
    "### EXERCÍCIO 2\n",
    "\n",
    "Foi desenvolvido um sensor que acende uma luz no painel do automóvel para avisar o motorista que a concentração do poluente no tanque de combustível está crítica, ou seja, ultrapassa 550 $\\mu g/L$. Responda:\n",
    "\n",
    "1. Sabendo que a luz acendeu, qual é a probabilidade da concentração do poluente ser superior a 580 $\\mu g/L$?\n",
    "2. Sabendo que a luz acendeu, qual é a probabilidade da concentração do poluente ser inferior a 560 $\\mu g/L$?\n",
    "\n",
    "*Resposta esperada: (1) 0.03333307956104959 (2) 0.6294099002523195*"
   ]
  },
  {
   "cell_type": "code",
   "execution_count": null,
   "metadata": {},
   "outputs": [],
   "source": [
    "# ESCREVA SEU CÓDIGO AQUI"
   ]
  },
  {
   "cell_type": "markdown",
   "metadata": {},
   "source": [
    "<div id=\"ex3\"></div>\n",
    "\n",
    "### EXERCÍCIO 3\n",
    "\n",
    "A partir de qual concentração de poluente a luz do painel deveria acender para que apenas as 10% maiores concentrações fossem consideradas críticas? E para que apenas as 0,1% maiores concentrações fossem consideradas críticas?\n",
    "\n",
    "*Resposta esperada: 532.547373131662 e 578.4821669580019*"
   ]
  },
  {
   "cell_type": "code",
   "execution_count": null,
   "metadata": {},
   "outputs": [],
   "source": [
    "# ESCREVA SEU CÓDIGO AQUI"
   ]
  },
  {
   "cell_type": "markdown",
   "metadata": {},
   "source": [
    "<div id=\"ex4\"></div>\n",
    "\n",
    "### EXERCÍCIO 4\n",
    "\n",
    "Foi desenvolvida uma nova técnica que inicialmente aumenta a concentração do poluente em 100 $\\mu g/L$ e depois reduz a nova concentração em 40%. Qual será a nova média e desvio padrão da concentração do poluente se aplicarmos essa nova técnica? Justifique sua resposta.\n",
    "\n",
    "**Dica:** utilize as propriedades de esperança e variância.\n",
    "\n",
    "*Resposta esperada: 360 e 15.238110119040353*"
   ]
  },
  {
   "cell_type": "code",
   "execution_count": null,
   "metadata": {},
   "outputs": [],
   "source": [
    "# ESCREVA SEU CÓDIGO AQUI"
   ]
  },
  {
   "cell_type": "markdown",
   "metadata": {},
   "source": [
    "<div id=\"resultados-empiricos\"></div>\n",
    "\n",
    "## Resultados empíricos\n",
    "\n",
    "O arquivo `poluentes.csv` contém observações da concentração do poluente em tanques de combustível."
   ]
  },
  {
   "cell_type": "code",
   "execution_count": null,
   "metadata": {},
   "outputs": [],
   "source": [
    "poluentes = pd.read_csv('poluentes.csv', header=None)\n",
    "poluentes.columns = ['concentracao']\n",
    "concentracao = poluentes['concentracao']\n",
    "poluentes.head()"
   ]
  },
  {
   "cell_type": "markdown",
   "metadata": {},
   "source": [
    "<div id=\"ex5\"></div>\n",
    "\n",
    "### EXERCÍCIO 5\n",
    "\n",
    "Considerando medidas-resumo, faça uma **análise descritiva** desses valores. Baseado nos dados, estime os valores dos parâmetros do modelo normal (média $\\mu$ e desvio padrão $\\sigma$).\n",
    "\n",
    "*Resposta esperada: média=500.572255 desvio padrão=25.358164991137812*"
   ]
  },
  {
   "cell_type": "code",
   "execution_count": null,
   "metadata": {},
   "outputs": [],
   "source": [
    "# ESCREVA SEU CÓDIGO AQUI"
   ]
  },
  {
   "cell_type": "markdown",
   "metadata": {},
   "source": [
    "<div id=\"ex6\"></div>\n",
    "\n",
    "### EXERCÍCIO 6\n",
    "\n",
    "Verifique quais seriam as respostas para o [Exercício 2](#ex2) utilizando os dados. Para isso, considere apenas as concentrações acima de 550 $\\mu g/L$. Dentre essas concentrações, calcule a frequência relativa das que são:\n",
    "\n",
    "1. Superiores a 580 $\\mu g/L$.\n",
    "2. Inferiores a 560 $\\mu g/L$.\n",
    "\n",
    "Discuta como esses valores se comparam às respostas do exercício 2. Por que são encontradas essas diferenças?\n",
    "\n",
    "*Resposta esperada: (1) 0.14285714285714285 (2) 0.7142857142857143*"
   ]
  },
  {
   "cell_type": "code",
   "execution_count": null,
   "metadata": {},
   "outputs": [],
   "source": [
    "# ESCREVA SEU CÓDIGO AQUI"
   ]
  },
  {
   "cell_type": "markdown",
   "metadata": {},
   "source": [
    "<div id=\"comparacao\"></div>\n",
    "\n",
    "## Comparação: resultados empíricos *vs* modelo teórico"
   ]
  },
  {
   "cell_type": "markdown",
   "metadata": {},
   "source": [
    "<div id=\"ex7\"></div>\n",
    "    \n",
    "### EXERCÍCIO 7\n",
    "\n",
    "Uma maneira de sabermos se uma escolha de modelo é adequada para o problema em questão é utilizarmos a função `probplot()`. Essa função traça uma reta indicando o que seria esperado do ponto de vista teórico utilizando a distribuição analisada versus os dados reais encontrados. Quanto mais próximos da diagonal, mais provável é que os dados sigam a distribuição.\n",
    "\n",
    "Consulte a [documentação da função `probplot()`](https://docs.scipy.org/doc/scipy/reference/generated/scipy.stats.probplot.html) e gere o `probplot()`. Discuta se é razoável assumirmos que os dados vieram de uma distribuição normal. **Dica**: para visualizar o gráfico utilize o argumento `plot=plt` na chamada da função `probplot()`."
   ]
  },
  {
   "cell_type": "code",
   "execution_count": null,
   "metadata": {},
   "outputs": [],
   "source": [
    "# ESCREVA SEU CÓDIGO AQUI"
   ]
  },
  {
   "cell_type": "markdown",
   "metadata": {},
   "source": [
    "<div id=\"ex8\"></div>\n",
    "    \n",
    "### EXERCÍCIO 8\n",
    "\n",
    "Construa um histograma para visualizar os dados de concentração de poluentes divididos em 15 faixas. **Dica**: consulte a documentação da função aqui: [https://matplotlib.org/3.2.1/api/_as_gen/matplotlib.pyplot.hist.html](https://matplotlib.org/3.2.1/api/_as_gen/matplotlib.pyplot.hist.html). Além disso, há um exemplo de histograma na atividade da aula 12 (distribuição exponencial).\n",
    "\n",
    "Plote também a função de densidade de probabilidade (f.d.p.) da distribuição normal utilizando os novos parâmetros calculados a partir dos dados."
   ]
  },
  {
   "cell_type": "code",
   "execution_count": null,
   "metadata": {},
   "outputs": [],
   "source": [
    "# ESCREVA SEU CÓDIGO AQUI"
   ]
  },
  {
   "cell_type": "markdown",
   "metadata": {},
   "source": [
    "<div id=\"ex9\"></div>\n",
    "\n",
    "### EXERCÍCIO 9\n",
    "\n",
    "Vamos simular a aplicação da técnica introduzida no [Exercício 4](#ex4). Crie uma nova coluna em `poluentes` chamada `'nova concentracao'`. Essa coluna deve ser o resultado da aplicação da técnica do exercício 4 em cada valor da coluna `'concentracao'`, ou seja, para cada valor de concentração, adicionar 100 e aplicar a redução de 40%."
   ]
  },
  {
   "cell_type": "code",
   "execution_count": null,
   "metadata": {},
   "outputs": [],
   "source": [
    "# ESCREVA SEU CÓDIGO AQUI"
   ]
  },
  {
   "cell_type": "markdown",
   "metadata": {},
   "source": [
    "<div id=\"ex10\"></div>\n",
    "\n",
    "### EXERCÍCIO 10\n",
    "\n",
    "Calcule a média e o desvio padrão dessa nova coluna `'nova concentracao'`. Discuta como ela se compara com relação aos valores teóricos obtidos no [exercício 4](#ex4).\n",
    "\n",
    "*Resposta esperada: Média: 360.3433531500001 DP: 15.21489899468268*"
   ]
  },
  {
   "cell_type": "code",
   "execution_count": null,
   "metadata": {},
   "outputs": [],
   "source": [
    "# ESCREVA SEU CÓDIGO AQUI"
   ]
  },
  {
   "cell_type": "markdown",
   "metadata": {},
   "source": [
    "<div id=\"comandos\"></div>\n",
    "\n",
    "___\n",
    "\n",
    "## Lista de comandos utilizados neste notebook\n",
    "\n",
    "Os seguintes comandos foram utilizados neste jupyter notebook. Para facilitar sua consulta, escreva um resumo do que cada um deles faz:\n",
    "\n",
    "- [`.pmf`](#pmf-stats): ESCREVA AQUI O RESUMO\n",
    "- [`.mean`](#pmf-stats): ESCREVA AQUI O RESUMO\n",
    "- [`.var`](#pmf-stats): ESCREVA AQUI O RESUMO\n",
    "- [`.ppf`](#ppf): ESCREVA AQUI O RESUMO"
   ]
  }
 ],
 "metadata": {
  "kernelspec": {
   "display_name": "Python 3",
   "language": "python",
   "name": "python3"
  },
  "language_info": {
   "codemirror_mode": {
    "name": "ipython",
    "version": 3
   },
   "file_extension": ".py",
   "mimetype": "text/x-python",
   "name": "python",
   "nbconvert_exporter": "python",
   "pygments_lexer": "ipython3",
   "version": "3.7.1"
  }
 },
 "nbformat": 4,
 "nbformat_minor": 2
}
