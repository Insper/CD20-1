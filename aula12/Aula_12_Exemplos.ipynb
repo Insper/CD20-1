{
 "cells": [
  {
   "cell_type": "markdown",
   "metadata": {},
   "source": [
    "___\n",
    "# Exemplos: Distribuições uniforme e exponencial\n",
    "___\n",
    "\n",
    "## Lista de comandos\n",
    "\n",
    "### Distribuição Uniforme\n",
    "\n",
    "Comandos quando $X\\sim Uniforme(a, b)$.\n",
    "\n",
    "* $f(x)$: `stats.uniform.pdf(x, loc=a, scale=b-a)`\n",
    "\n",
    "* $P(X\\leq x)$: `stats.uniform.cdf(x, loc=a, scale=b-a)`\n",
    "\n",
    "* $x$ tal que $q=P(X\\leq x)$: `stats.uniform.ppf(q, loc=a, scale=b-a)`\n",
    "\n",
    "* $E(X)$: `stats.uniform.mean(loc=a, scale=b-a)`\n",
    "\n",
    "* $Var(X)$: `stats.uniform.var(loc=a, scale=b-a)`\n",
    "\n",
    "* $DP(X)$: `stats.uniform.std(loc=a, scale=b-a)`\n",
    "\n",
    "Link: https://docs.scipy.org/doc/scipy/reference/generated/scipy.stats.uniform.html\n",
    "\n",
    "\n",
    "### Distribuição Exponencial\n",
    "\n",
    "Comandos quando $X\\sim Exp(\\lambda)$. Lembrando que nesse caso $E(X) = \\mu = 1/\\lambda$.\n",
    "\n",
    "* $f(x)$: `stats.expon.pdf(x, scale=mu)`\n",
    "\n",
    "* $P(X\\leq x)$: `stats.expon.cdf(x, scale=mu)`\n",
    "\n",
    "* $x$ tal que $q=P(X\\leq x)$: `stats.expon.ppf(q, scale=mu)`\n",
    "\n",
    "* $E(X)$: `stats.expon.mean(scale=mu)`\n",
    "\n",
    "* $Var(X)$: `stats.expon.var(scale=mu)`\n",
    "\n",
    "* $DP(X)$: `stats.expon.std(scale=mu)`\n",
    "\n",
    "Link: https://docs.scipy.org/doc/scipy/reference/generated/scipy.stats.expon.html"
   ]
  },
  {
   "cell_type": "code",
   "execution_count": null,
   "metadata": {},
   "outputs": [],
   "source": [
    "from scipy import stats"
   ]
  },
  {
   "cell_type": "markdown",
   "metadata": {},
   "source": [
    "___\n",
    "\n",
    "## Exercício 1:\n",
    "\n",
    "O torque suportado por parafusos de uma linha de montagem varia segundo uma distribuição uniforme entre 100 Nm e 200Nm. (sendo Nm: Newton metros)\n",
    "\n",
    "### Item a\n",
    "\n",
    "Qual a probabilidade de o torque de um parafuso qualquer estar entre 175Nm e 200Nm?\n",
    "\n",
    "*Resposta esperada: 0.25*"
   ]
  },
  {
   "cell_type": "code",
   "execution_count": null,
   "metadata": {},
   "outputs": [],
   "source": [
    "# ESCREVA SUA RESPOSTA AQUI"
   ]
  },
  {
   "cell_type": "markdown",
   "metadata": {},
   "source": [
    "### Item b\n",
    "\n",
    "Um parafuso sobreviveu a um teste de torque que garante que ele suporta pelo menos 150Nm. Qual a probabilidade que suporte entre 175 e 200Nm?\n",
    "\n",
    "*Resposta esperada: 0.5*"
   ]
  },
  {
   "cell_type": "code",
   "execution_count": null,
   "metadata": {},
   "outputs": [],
   "source": [
    "# ESCREVA SUA RESPOSTA AQUI"
   ]
  },
  {
   "cell_type": "markdown",
   "metadata": {},
   "source": [
    "___\n",
    "\n",
    "## Exercício 2:\n",
    "\n",
    "Admita que o tempo até que uma venda seja realizada em uma loja siga um modelo (distribuição) exponencial com média de 0,2 horas (12 minutos).\n",
    "\n",
    "### Item a\n",
    "\n",
    "Qual é a probabilidade de uma venda demorar mais de meia hora para ser feita?\n",
    "\n",
    "*Resposta esperada: 0.08208499862389884*"
   ]
  },
  {
   "cell_type": "code",
   "execution_count": null,
   "metadata": {},
   "outputs": [],
   "source": [
    "# ESCREVA SUA RESPOSTA AQUI"
   ]
  },
  {
   "cell_type": "markdown",
   "metadata": {},
   "source": [
    "### Item b\n",
    "\n",
    "Dado que você sabe que a próxima venda vai ser feita em menos de meia hora, qual a probabilidade de que seja em menos de 5 minutos?\n",
    "\n",
    "*Resposta esperada: 0.37123194335935633*"
   ]
  },
  {
   "cell_type": "code",
   "execution_count": null,
   "metadata": {},
   "outputs": [],
   "source": [
    "# ESCREVA SUA RESPOSTA AQUI"
   ]
  }
 ],
 "metadata": {
  "kernelspec": {
   "display_name": "Python 3",
   "language": "python",
   "name": "python3"
  },
  "language_info": {
   "codemirror_mode": {
    "name": "ipython",
    "version": 3
   },
   "file_extension": ".py",
   "mimetype": "text/x-python",
   "name": "python",
   "nbconvert_exporter": "python",
   "pygments_lexer": "ipython3",
   "version": "3.7.1"
  }
 },
 "nbformat": 4,
 "nbformat_minor": 2
}
