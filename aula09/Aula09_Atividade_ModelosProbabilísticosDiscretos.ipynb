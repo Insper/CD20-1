{
 "cells": [
  {
   "cell_type": "markdown",
   "metadata": {},
   "source": [
    "___\n",
    "# Atividade: Modelos probabilísticos discretos e Dados\n",
    "___\n",
    "\n",
    "## Aula 09 - Atividade\n",
    "\n",
    "<div id=\"indice\"></div>\n",
    "\n",
    "## Índice\n",
    "\n",
    "- [Teoria: Distribuição Binomial](#teoria)\n",
    "    - [Esperança e Variância](#esperanca-variancia)\n",
    "- [Base de Dados: DETRAN](#detran)\n",
    "    - [Resultados empíricos](#resultados-empiricos)\n",
    "        - [Exercício 1](#ex1)\n",
    "        - [Exercício 2](#ex2)\n",
    "    - [Modelo teórico](#modelo-teorico)\n",
    "        - [Exercício 3](#ex3)\n",
    "        - [Exercício 4](#ex4)\n",
    "    - [Comparação: resultados empíricos X modelo teórico](#comparacao)\n",
    "        - [Opção 1: Frequências relativas X Probabilidades teóricas](#opcao1)\n",
    "        - [Opção 2: Frequência relativa acumulada X Probabilidade acumulada](#opcao2)\n",
    "        - [Exercício 5](#ex5)\n",
    "        - [Exercício 6](#ex6)\n",
    "        - [Exercício 7](#ex7)\n",
    "- [Lista de comandos utilizados neste notebook](#comandos)\n",
    "\n",
    "___\n",
    "\n",
    "<div id=\"teoria\"></div>\n",
    "\n",
    "## Teoria: Distribuição Binomial\n",
    "\n",
    "A distribuição binomial modela a número de sucessos (o evento de interesse) em uma determinada quantidade de tentativas. Mais formalmente, dizemos que uma variável aleatória $Y$ segue uma distribuição binomial utilizando a seguinte notação: $Y$~$Bin(n,p)$. Essa notação pode ser lida como: $Y$ segue uma distribuição binomial com $n$ tentativas e $p$ como probabilidade de sucesso em cada evento independente.\n",
    "\n",
    "A função de probabilidade (lembrando: que associa uma probabilidade a cada valor possível de $Y$) é dada por:\n",
    "\n",
    "$$P(Y=y)=\\left(\n",
    "\\begin{array}{c}\n",
    "    n \\\\\n",
    "    y\n",
    "\\end{array}\\right) p^y (1-p)^{(n-y)}$$\n",
    "\n",
    "Para que um experimento possa ser modelado por uma distribuição binomial, ele precisa ter as seguintes propriedades:\n",
    "\n",
    "- ser uma contagem de $n$ repetições (ou tentativas, ou ensaios) idênticas;\n",
    "- cada repetição tem apenas 2 resultados possíveis: um é denominado sucesso (o resultado de interesse, que não necessariamente é positivo) e o outro, fracasso;\n",
    "- a probabilidade de sucesso para cada ensaio é denominada $p$ e será constante em cada repetição. Consequentemente, a probabilidade de fracasso $(1-p)$ também não varia de tentativa para tentativa;\n",
    "- as tentativas são independentes.\n",
    "\n",
    "<div id=\"esperanca-variancia\"></div>\n",
    "\n",
    "### Esperança e Variância\n",
    "\n",
    "Se $Y$~$Bin(n,p)$, o valor esperado $E(Y)$ e a variância $Var(Y)$ são dados por:\n",
    "\n",
    "$$E(Y) = np$$\n",
    "\n",
    "$$Var(Y) = np(1-p)$$\n",
    "\n",
    "___\n",
    "\n",
    "<div id=\"detran\"></div>\n",
    "\n",
    "# <font color='blue'>Base de Dados: DETRAN</font> \n",
    "\n",
    "Esse exercício irá explorar uma modelagem de dados reais.\n",
    "\n",
    "> **Confira alguns itens obrigatórios verificados durante a vistoria do Detran**\n",
    ">\n",
    "> *Todos os veículos, novos ou velhos, precisam passar por uma vistoria todos os anos. (...) O motorista precisa estar atento a alguns itens obrigatórios. Tudo deve funcionar perfeitamente, apresentar bom estado de conservação e estar dentro do prazo de validade.*\n",
    ">\n",
    "> <sup>Fonte: http://extra.globo.com/noticias/brasil/transito-seguro/confira-alguns-itens-obrigatorios-verificados-durante-vistoria-do-detran-10190355.html</sup>\n",
    "\n",
    "Essa matéria lista 14 itens que são inspecionados pelo Detran, dentre os quais têm-se: extintor de incêndio deve estar dentro do prazo de validade; pneus devem estar em bom estado de conservação; buzina deve funcionar perfeitamente; e cintos de segurança para todos os ocupantes do carro. Se, no final das contas, todos os 14 itens estiverem funcionando perfeitamente, o motorista irá feliz para casa assegurado de que seu carro está sem problemas com a vistoria.\n",
    "\n",
    "A base de dados `Carros.txt` apresenta, para cada um dos três mil carros de passeio vistoriados, duas informações:\n",
    "\n",
    "- **Tipo**: tipo de carro (1: Popular e 2: Não Popular)\n",
    "- **Quantidade**: quantidade de itens vistoriados em não conformidade (que pode variar de 0 a 14)\n",
    "\n",
    "Vamos começar carregando a base em um `DataFrame`:"
   ]
  },
  {
   "cell_type": "code",
   "execution_count": null,
   "metadata": {},
   "outputs": [],
   "source": [
    "%matplotlib inline\n",
    "import pandas as pd\n",
    "import matplotlib.pyplot as plt\n",
    "import numpy as np\n",
    "\n",
    "from scipy import stats #importa apenas as funções de estatísticas da biblioteca SciPy."
   ]
  },
  {
   "cell_type": "code",
   "execution_count": null,
   "metadata": {},
   "outputs": [],
   "source": [
    "import os\n",
    "print('Esperamos trabalhar no diretório')\n",
    "print(os.getcwd())\n",
    "carros = pd.read_table('Carros.txt', sep=' ')\n",
    "carros.head()"
   ]
  },
  {
   "cell_type": "markdown",
   "metadata": {},
   "source": [
    "<div id=\"resultados-empiricos\"></div>\n",
    "\n",
    "## Resultados empíricos\n",
    "\n",
    "<div id=\"ex1\"></div>\n",
    "\n",
    "### EXERCÍCIO 1\n",
    "\n",
    "Considerando todos os carros, gere uma tabela de frequências relativas da quantidade de itens vistoriados em não conformidade (variável **Quantidade**). Armazene essa tabela em uma variável chamada `frequencias_relativas`. **Observação:** utilize o método `.sort_index()` no resultado do `.value_counts()` para corrigir a ordenação."
   ]
  },
  {
   "cell_type": "code",
   "execution_count": null,
   "metadata": {},
   "outputs": [],
   "source": [
    "# ESCREVA O CÓDIGO DA SUA RESPOSTA AQUI"
   ]
  },
  {
   "cell_type": "markdown",
   "metadata": {},
   "source": [
    "<div id=\"ex2\"></div>\n",
    "\n",
    "### EXERCÍCIO 2\n",
    "\n",
    "1. **A partir da tabela de frequências relativas**, calcule a média, variância e desvio padrão da quantidade de itens vistoriados em não conformidade. Ou seja, sem utilizar as funções `.mean()`, `.var(ddof=0)` e `std(ddof=0)`. Para isso, será necessário utilizar as fórmulas vistas em aula:\n",
    "\n",
    "    $$\\overline{Y} = \\sum\\limits_y y\\cdot P(Y=y)$$\n",
    "\n",
    "    $$Var(Y) = \\sum\\limits_y (y-\\overline{Y})^2\\cdot P(Y=y)$$\n",
    "    \n",
    "    $$DP(Y) = \\sqrt{Var(Y)}$$\n",
    "\n",
    "1. Compare os resultados com a média e variância obtidas a partir das funções `.mean()` `.var(ddof=0)` e `.std(ddof=0)`.\n",
    "\n",
    "1. Explique sucintamente o que você pode concluir a partir desses valores."
   ]
  },
  {
   "cell_type": "code",
   "execution_count": null,
   "metadata": {},
   "outputs": [],
   "source": [
    "# ESCREVA O CÓDIGO DA SUA RESPOSTA AQUI"
   ]
  },
  {
   "cell_type": "markdown",
   "metadata": {},
   "source": [
    "ESCREVA SUAS CONCLUSÕES AQUI"
   ]
  },
  {
   "cell_type": "markdown",
   "metadata": {},
   "source": [
    "<div id=\"modelo-teorico\"></div>\n",
    "\n",
    "## Modelo teórico\n",
    "\n",
    "<div id=\"ex3\"></div>\n",
    "\n",
    "### EXERCÍCIO 3\n",
    "\n",
    "Assuma que a variável **Quantidade** possa ser ajustada pelo modelo binomial com parâmetros $n=14$ e $p=0,10$. Interprete esses parâmetros para o problema em questão e, ainda, discuta se as propriedades da distribuição binomial estão satisfeitas para o problema aqui me questão."
   ]
  },
  {
   "cell_type": "markdown",
   "metadata": {},
   "source": [
    "PREENCHA COM AS SUAS RESPOSTAS:\n",
    "    \n",
    "- $n = 14$: SUBSTITUA ESTE TEXTO PELA SUA INTERPRETAÇÃO DESTE PARÂMETRO\n",
    "- $p = 0,10$: SUBSTITUA ESTE TEXTO PELA SUA INTERPRETAÇÃO DESTE PARÂMETRO\n",
    "\n",
    "As propriedades da distribuição binomial [estão satisfeitas/não estão satisfeitas] para o problema em questão porque [COMPLETE COM A SUA RESPOSTA]"
   ]
  },
  {
   "cell_type": "markdown",
   "metadata": {},
   "source": [
    "**Independente da sua resposta anterior, considere que a distribuição binomial seja adequada para modelar a variável de interesse nos próximos exercícios!**\n",
    "\n",
    "<div id=\"ex4\"></div>\n",
    "\n",
    "### EXERCÍCIO 4\n",
    "\n",
    "<div id=\"pmf-stats\"></div>\n",
    "\n",
    "1. Consulte a [documentação do método `stats.binom.pmf`](https://docs.scipy.org/doc/scipy-0.14.0/reference/generated/scipy.stats.binom.html). Utilizando esse método, obtenha a probabilidade de cada uma das quantidades de itens em não conformidade, ou seja, de 0 a 14, quando $n=14$ e $p=0,10$. Armazene as probabilidades em uma lista (probabilidades de todas as quantidades possíveis, de 0 a 14) e guarde esta lista em uma variável chamada `probabilidades_teoricas`.\n",
    "1. Calcule o valor esperado e a variância da quantidade de itens em não conformidade utilizando os métodos `stats.binom.mean` e `stats.binom.var` (a documentação está na mesma página do método `stats.binom.pmf`) e compare com a esperança e variância calculados a partir das [fórmulas da distribuição binomial](#esperanca-variancia)."
   ]
  },
  {
   "cell_type": "code",
   "execution_count": null,
   "metadata": {},
   "outputs": [],
   "source": [
    "# ESCREVA SEU CÓDIGO AQUI"
   ]
  },
  {
   "cell_type": "markdown",
   "metadata": {},
   "source": [
    "<div id=\"comparacao\"></div>\n",
    "\n",
    "## Comparação: resultados empíricos *vs* modelo teórico\n",
    "\n",
    "Vamos comparar as probabilidades teóricas ([exercício 4](#ex4)) com as frequências relativas observadas nos dados ([exercício 2](#ex2)). Para isso, temos, por exemplo, as duas opções gráficas a seguir para verificar se os resultados empíricos se encaixam no modelo teórico proposto. Procure entender pelo menos a ideia do código que gera os gráficos abaixo (pode ser necessário procurar alguma documentação, mas não se preocupe em entender todos os detalhes), eles serão úteis na última questão.\n",
    "\n",
    "<div id=\"opcao1\"></div>\n",
    "\n",
    "### Opção 1: Frequências relativas *vs* Probabilidades teóricas\n",
    "\n",
    "A primeira opção gráfica contrasta a frequência relativa e a probabilidade teórica para uma determinada quantidade de itens em não conformidade. Essa opção contrasta a frequência relativa para um valor de $y$ com a probabilidade pontual $P(Y=y)$."
   ]
  },
  {
   "cell_type": "code",
   "execution_count": null,
   "metadata": {},
   "outputs": [],
   "source": [
    "fr = frequencias_relativas\n",
    "pr = probabilidades_teoricas\n",
    "plt.plot(range(len(pr)), pr, 'o', alpha=0.8)\n",
    "plt.plot(range(len(fr)), fr, 'D', alpha=0.8)\n",
    "plt.legend(('Freq.rel.','P(Y=y)'))\n",
    "plt.title('Frequência relativa X Probabilidade teórica')\n",
    "plt.show()"
   ]
  },
  {
   "cell_type": "markdown",
   "metadata": {},
   "source": [
    "<div id=\"opcao2\"></div>\n",
    "\n",
    "### Opção 2: Frequência relativa acumulada *vs* Probabilidade acumulada\n",
    "\n",
    "A segunda opção gráfica contrasta a frequência relativa acumulada com a probabilidade acumulada até determinada quantidade de itens em não conformidade. Ou seja, compara a frequência relativa acumulada até $y$ com a probabilidade acumulada $P(Y\\leq y)$."
   ]
  },
  {
   "cell_type": "code",
   "execution_count": null,
   "metadata": {},
   "outputs": [],
   "source": [
    "fra = fr.cumsum()\n",
    "n = 14\n",
    "p = 0.1\n",
    "\n",
    "plt.plot(range(n), fda, 'o', alpha=0.8)\n",
    "plt.plot(range(len(fra)), fra, 'D', alpha=0.8)\n",
    "plt.legend(('Freq.rel.acum.','P(Y<=y)'))\n",
    "plt.show()"
   ]
  },
  {
   "cell_type": "markdown",
   "metadata": {},
   "source": [
    "<div id=\"ex5\"></div>\n",
    "\n",
    "### EXERCÍCIO 5\n",
    "\n",
    "Baseado nos gráficos acima, refine sua conclusão quanto ao uso do modelo teórico para ajustar a variável em questão ([exercício 3](#ex3))."
   ]
  },
  {
   "cell_type": "markdown",
   "metadata": {},
   "source": [
    "ESCREVA SUA RESPOSTA AQUI"
   ]
  },
  {
   "cell_type": "markdown",
   "metadata": {},
   "source": [
    "<div id=\"ex6\"></div>\n",
    "\n",
    "### EXERCÍCIO 6\n",
    "\n",
    "Na prática, qual a necessidade de um modelo probabilístico já que temos os dados observados?"
   ]
  },
  {
   "cell_type": "markdown",
   "metadata": {},
   "source": [
    "ESCREVA SUA RESPOSTA AQUI"
   ]
  },
  {
   "cell_type": "markdown",
   "metadata": {},
   "source": [
    "<div id=\"ex7\"></div>\n",
    "\n",
    "### EXERCÍCIO 7\n",
    "\n",
    "Considerando apenas os carros populares, o modelo binomial com parâmetros $n=14$ e $p=0,10$ é adequado para ajustar a variável **Quantidade**? Se sim, justifique; caso não, sugira novos valores para os parâmetros da distribuição para que ela se ajuste aos dados. **Dica**: utilize a [fórmula de $E(Y)$](#esperanca-variancia)."
   ]
  },
  {
   "cell_type": "code",
   "execution_count": null,
   "metadata": {},
   "outputs": [],
   "source": [
    "# ESCREVA SEU CÓDIGO AQUI"
   ]
  },
  {
   "cell_type": "markdown",
   "metadata": {},
   "source": [
    "<div id=\"comandos\"></div>\n",
    "\n",
    "___\n",
    "\n",
    "## Lista de comandos utilizados neste notebook\n",
    "\n",
    "Os seguintes comandos foram utilizados neste jupyter notebook. Para facilitar sua consulta, escreva um resumo do que cada um deles faz:\n",
    "\n",
    "- [`stats.binom.pmf`](#pmf-stats): ESCREVA AQUI O RESUMO\n",
    "- [`stats.binom.mean`](#pmf-stats): ESCREVA AQUI O RESUMO\n",
    "- [`stats.binom.var`](#pmf-stats): ESCREVA AQUI O RESUMO\n"
   ]
  }
 ],
 "metadata": {
  "anaconda-cloud": {},
  "kernelspec": {
   "display_name": "Python 3",
   "language": "python",
   "name": "python3"
  },
  "language_info": {
   "codemirror_mode": {
    "name": "ipython",
    "version": 3
   },
   "file_extension": ".py",
   "mimetype": "text/x-python",
   "name": "python",
   "nbconvert_exporter": "python",
   "pygments_lexer": "ipython3",
   "version": "3.7.1"
  }
 },
 "nbformat": 4,
 "nbformat_minor": 1
}
