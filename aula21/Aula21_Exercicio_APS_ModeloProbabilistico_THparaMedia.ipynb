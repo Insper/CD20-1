{
 "cells": [
  {
   "cell_type": "markdown",
   "metadata": {},
   "source": [
    "# Exercícios: \n",
    "\n",
    "# Modelos Probabilísticos Contínuos (Aulas 12; 13 e 15)\n",
    "\n",
    "# Testes de Hipóteses para média populacional (Aulas 17 a 21)\n",
    "___\n",
    "\n",
    "## APS\n",
    "\n",
    "<div id=\"indice\"></div>\n",
    "\n",
    "## Índice\n",
    "\n",
    "- [Exercício 1](#ex1)\n",
    "- [Exercício 2](#ex2)\n",
    "- [Exercício 3](#ex3)\n",
    "\n",
    "___"
   ]
  },
  {
   "cell_type": "code",
   "execution_count": null,
   "metadata": {},
   "outputs": [],
   "source": [
    "%matplotlib inline\n",
    "\n",
    "import pandas as pd\n",
    "import numpy as np\n",
    "import matplotlib.pyplot as plt\n",
    "\n",
    "import scipy.stats as stats\n"
   ]
  },
  {
   "cell_type": "markdown",
   "metadata": {},
   "source": [
    "<div id=\"ex1\"></div>\n",
    "\n",
    "## EXERCÍCIO 1 - Formulação de hipóteses\n",
    "\n",
    "Para cada **Problema** a seguir, descreva a **variável de interesse** e as **hipóteses em termos do problema e em termos estatísticos**.\n",
    "\n",
    "Símbolos úteis (se precisar e/ou quiser usar): $\\quad\\mu \\quad> \\quad< \\quad\\leq \\quad\\geq \\quad\\neq$"
   ]
  },
  {
   "cell_type": "markdown",
   "metadata": {},
   "source": [
    "**A. Problema -**\n",
    "Um artigo publicado na Food Chemistry fala sobre o percentual de proteina extraída a partir do leite de amendoim. Com 95% de confiança, é possível afirmar que o percentual médio de proteina extraída está abaixo de 80 por cento?\n",
    "\n",
    "  * Definição da variável de interesse: X: \n",
    "  \n",
    "[ESCREVA AQUI]\n",
    "  \n",
    "  * Hipóteses em termos do problema e em termos estatísticos:\n",
    "\n",
    "$H_0:$ [ESCREVA AQUI EM TERMOS DO PROBLEMA!] $\\Rightarrow H_0:$ [ESCREVA AQUI EM TERMOS DO PARÂMETRO!]\n",
    "\n",
    "$H_1:$ [ESCREVA AQUI EM TERMOS DO PROBLEMA!] $\\Rightarrow H_1:$ [ESCREVA AQUI EM TERMOS DO PARÂMETRO!]\n",
    "\n",
    "*Pergunta 1 da APS8 do Blackboard*\n",
    "\n",
    "<br>"
   ]
  },
  {
   "cell_type": "markdown",
   "metadata": {},
   "source": [
    "**B. Problema -**\n",
    "Para melhores políticas habitacionais para pessoas de baixa renda, uma prefeitura deseja estudar a quantidade de membros em famílias de baixa renda. Com 95% de confiança, é possível afirmar que a quantidade média de pessoas em famílias de baixa  renda excede 4 membros?\n",
    "\n",
    "  * Definição da variável de interesse: X: \n",
    "  \n",
    "[ESCREVA AQUI]\n",
    "  \n",
    "  * Hipóteses em termos do problema e em termos estatísticos:\n",
    "\n",
    "$H_0:$ [ESCREVA AQUI EM TERMOS DO PROBLEMA!] $\\Rightarrow H_0:$ [ESCREVA AQUI EM TERMOS DO PARÂMETRO!]\n",
    "\n",
    "$H_1:$ [ESCREVA AQUI EM TERMOS DO PROBLEMA!] $\\Rightarrow H_1:$ [ESCREVA AQUI EM TERMOS DO PARÂMETRO!]\n",
    "\n",
    "*Pergunta 2 da APS8 do Blackboard*\n",
    "\n",
    "<br>"
   ]
  },
  {
   "cell_type": "markdown",
   "metadata": {},
   "source": [
    "**C. Problema -**\n",
    "Um dos maiores problemas de uma grande rede de vendas a varejo é a adequação de peças em estoque de cada produto. Para cumprir com a demanda sem ter um excesso de peças em estoque e sem ficar sem peças para vender, o departamento da área definiu que cada produto deve ter 50 peças em estoque para equilíbrio. Uma amostra de 30 momentos diferentes, a média amostral foi igual a 55 peças com desvio padrão amostral igual a 2 peças.\n",
    "Com 95% de confiança, é possível afirmar que, em média, a quantidade definida pelo departamento está sendo cumprida?\n",
    "\n",
    "  * Definição da variável de interesse: X: \n",
    "  \n",
    "[ESCREVA AQUI]\n",
    "  \n",
    "  * Hipóteses em termos do problema e em termos estatísticos:\n",
    "\n",
    "$H_0:$ [ESCREVA AQUI EM TERMOS DO PROBLEMA!] $\\Rightarrow H_0:$ [ESCREVA AQUI EM TERMOS DO PARÂMETRO!]\n",
    "\n",
    "$H_1:$ [ESCREVA AQUI EM TERMOS DO PROBLEMA!] $\\Rightarrow H_1:$ [ESCREVA AQUI EM TERMOS DO PARÂMETRO!]\n",
    "\n",
    "*Pergunta 3 da APS8 do Blackboard*"
   ]
  },
  {
   "cell_type": "markdown",
   "metadata": {},
   "source": [
    "___\n",
    "<div id=\"ex2\"></div>\n",
    "\n",
    "## EXERCÍCIO 2 - Teste de hipóteses\n",
    "\n",
    "`Fonte: baseado na literatura Montgomery e Runger (2016)`\n",
    "\n",
    "**Problema** -  \n",
    "Atualmente, estudos dizem que famílias de classe média gastam exatamente metade da receita familiar com alimentação. \n",
    "\n",
    "Para avaliar tal afirmação, a variável de interesse será: `X: percentual de gasto da receita familiar com alimentação de cada família`, cujo valor médio é representado por $\\mu$ e a variância, representada por $\\sigma^2$.\n",
    "\n",
    "Nesse caso, as hipóteses em termos do problema e do parâmetro ficam:\n",
    "\n",
    "$\\qquad H_0:$ Afirmação do estudo procede $\\Rightarrow H_0: \\mu = 50$ \n",
    "\n",
    "$\\qquad H_1:$ Afirmação do estudo não procede $\\Rightarrow H_1: \\mu \\neq 50$"
   ]
  },
  {
   "cell_type": "markdown",
   "metadata": {},
   "source": [
    "Uma amostra de 16 famílias com tais características foi selecionada e os valores observados para a variável de interesse foram:"
   ]
  },
  {
   "cell_type": "code",
   "execution_count": null,
   "metadata": {},
   "outputs": [],
   "source": [
    "amostra = pd.Series([42, 45, 46, 48, 44, 45, 42, 52,\n",
    "                     47, 51, 56, 53, 40, 45, 48, 50])"
   ]
  },
  {
   "cell_type": "markdown",
   "metadata": {},
   "source": [
    "**Escolha adequadamente** uma das metodologias exploradas nas `Aula 19` a `Aula 21` e faça:\n",
    "\n",
    "> i. Construa a Região Crítica do teste de hipóteses assumindo $\\alpha =0.10$ e faça uma conclusão em termos do problema.\n",
    "\n",
    "> ii. Calcule o valor_p e faça novamente uma conclusão em termos do problema. \n",
    "\n",
    "> iii. Descreva a suposição necessária sobre a variável de interesse `percentual de gasto da receita familiar com alimentação de cada família` para que a metodologia utilizada nos dois itens anteriores seja válida. \n",
    "\n",
    "\n",
    "*Pergunta 4 da APS8 do Blackboard*"
   ]
  },
  {
   "cell_type": "markdown",
   "metadata": {},
   "source": [
    "**Respostas:**"
   ]
  },
  {
   "cell_type": "code",
   "execution_count": null,
   "metadata": {},
   "outputs": [],
   "source": [
    "# ESCREVA SEU CÓDIGO AQUI"
   ]
  },
  {
   "cell_type": "code",
   "execution_count": null,
   "metadata": {},
   "outputs": [],
   "source": []
  },
  {
   "cell_type": "markdown",
   "metadata": {},
   "source": [
    "___"
   ]
  },
  {
   "cell_type": "markdown",
   "metadata": {},
   "source": [
    "___\n",
    "<div id=\"ex1\"></div>\n",
    "\n",
    "## EXERCÍCIO 3 - Modelagem do Tempo para resolver uma prova de MatVar\n",
    "\n",
    "Um grupo de alunos de cada uma das três turmas que cursam Ciência dos Dados estava discutindo com intuito de modelar o tempo, em horas, que um aluno irá levar para fazer uma prova de Matemática da Variação. \n",
    "\n",
    "Após cada grupo de alunos chegar a um consenso, foi escolhido um modelo probabilístico contínuo diferente para cada turma A, B e C. Dessa forma, os três modelos foram escolhidos com intuito de descrever o comportamento da variável X: tempo, em horas, que um aluno irá levar para entregar uma prova de Matemática da Variação. Lembrando que um aluno tem até duas horas para fazê-la.\n",
    "\n",
    "Esses três modelos são dados por:\n",
    "\n",
    "> * **Turma A:** $X_A$ segue o seguinte modelo:\n",
    "    $ f(x) = \\left\\{ \\begin{array}[ll]\\\\\n",
    "                +0.4-0.8x & \\rm{se }\\hspace{2mm} 0<x<0.5 \\\\\n",
    "                -0.4+0.8x & \\rm{se }\\hspace{2mm} 0.5\\leq x\\leq2 \\\\\n",
    "                0 & \\rm{caso}\\hspace{2mm}\\rm{contrário} \n",
    "             \\end{array} \\right.$\n",
    "\n",
    "> * **Turma B:** $X_B\\sim Normal(1; 0.3^2)$, ou seja, $\\mu=1$ e $\\sigma=0.3$.\n",
    "\n",
    "> * **Turma C:** $X_C\\sim Uniforme(0; 2)$, ou seja, $a=0$ e $b=2$.\n",
    "\n",
    "\n",
    "\n",
    "\n"
   ]
  },
  {
   "cell_type": "markdown",
   "metadata": {},
   "source": [
    "Admitindo que os alunos façam suas provas de forma independente uns dos outros, responda:\n",
    "\t\n",
    "> i. Estudando o comportamento da função densidade de probabilidade de cada modelo probabilístico, qual você entende ser o mais adequado para descrever o comportamento da variável X? E qual você entende ser o menos adequado? Justifique suas respostas após estudar o comportamento das fdp’s escolhidas por cada turma. *Nota: a fdp da turma A tem que ser construída usando a f(x) dada e, as demais, usando a função `pdf` do `scipy.stats`.\n",
    "\n",
    "> ii. Qual a probabilidade de um aluno da turma B demorar mais do que 1 hora e meia para entregar a prova de Matemática da Variação? E na da turma C? \n",
    "\n",
    "> iii.\tAtualmente, 34% dos alunos estão na turma A, 34% na B e 32% na C. Qual a probabilidade de um aluno qualquer (ou seja, um aluno de qualquer uma dessas três turmas) demorar mais do que uma hora e meia para entregar a prova final dessa disciplina?\n",
    "\n",
    "> iv. Qual o menor tempo de entrega da prova dentre os últimos 20% de alunos que entregam na sala da turma B? E na da turma C? Interprete os resultados.\n",
    "\n",
    "*Perguntas 5 a 8 da APS8 do Blackboard*"
   ]
  },
  {
   "cell_type": "markdown",
   "metadata": {},
   "source": [
    "**Respostas:**"
   ]
  },
  {
   "cell_type": "code",
   "execution_count": null,
   "metadata": {},
   "outputs": [],
   "source": [
    "# ESCREVA SEU CÓDIGO AQUI"
   ]
  },
  {
   "cell_type": "code",
   "execution_count": null,
   "metadata": {},
   "outputs": [],
   "source": []
  }
 ],
 "metadata": {
  "hide_input": false,
  "kernelspec": {
   "display_name": "Python 3",
   "language": "python",
   "name": "python3"
  },
  "language_info": {
   "codemirror_mode": {
    "name": "ipython",
    "version": 3
   },
   "file_extension": ".py",
   "mimetype": "text/x-python",
   "name": "python",
   "nbconvert_exporter": "python",
   "pygments_lexer": "ipython3",
   "version": "3.7.1"
  }
 },
 "nbformat": 4,
 "nbformat_minor": 2
}
