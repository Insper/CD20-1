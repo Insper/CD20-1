{
 "cells": [
  {
   "cell_type": "markdown",
   "metadata": {},
   "source": [
    "___\n",
    "# Atividade: Modelos probabilísticos discretos e Dados\n",
    "___\n",
    "\n",
    "## Aula 10 - Atividade\n",
    "\n",
    "<div id=\"indice\"></div>\n",
    "\n",
    "## Índice\n",
    "\n",
    "- [Teoria: Distribuição de Poisson](#teoria)\n",
    "    - [Esperança e Variância](#esperanca-variancia)\n",
    "- [Base de Dados: Erupções](#erupcoes)\n",
    "    - [Modelo teórico](#modelo-teorico)\n",
    "        - [Exercício 1](#ex1)\n",
    "        - [Exercício 2](#ex2)\n",
    "        - [Exercício 3](#ex3)\n",
    "        - [Exercício 4](#ex4)\n",
    "        - [Exercício 5](#ex5)\n",
    "    - [Resultados empíricos](#resultados-empiricos)\n",
    "        - [Exercício 6](#ex6)\n",
    "        - [Exercício 7](#ex7)\n",
    "        - [Exercício 8](#ex8)\n",
    "    - [Comparação: resultados empíricos *vs* modelo teórico](#comparacao)\n",
    "        - [Exercício 9](#ex9)\n",
    "        - [Exercício 10](#ex10)\n",
    "    - [Exercício extra](#ex-extra)\n",
    "\n",
    "- [Lista de comandos utilizados neste notebook](#comandos)\n",
    "\n",
    "___\n",
    "\n",
    "<div id=\"teoria\"></div>\n",
    "\n",
    "## Teoria: Distribuição de Poisson\n",
    "\n",
    "A distribuição de Poisson é utilizada para modelar estimativas de número de ocorrências em um espaço contínuo (tempo, área, distância, etc.). Seja $\\mu$ o número médio de eventos ocorrendo no intervalo considerado. Dizemos que uma variável aleatória $X$, que modela o número de ocorrências de um evento no intervalo considerado, segue uma distribuição de Poisson com parâmetro $\\mu$ utilizando a seguinte notação: $X$~$Poisson(\\mu)$.\n",
    "\n",
    "A função de probabilidade (lembrando: que associa uma probabilidade a cada valor possível de $X$) é dada por:\n",
    "\n",
    "$$P(X=x)=\\frac{e^{-\\mu}\\mu^x}{x!}$$\n",
    "\n",
    "Para que um experimento possa ser modelado por uma distribuição de Poisson, ele precisa ter as seguintes propriedades:\n",
    "\n",
    "- Probabilidade de uma ocorrência é a mesma para dois intervalos quaisquer de igual tamanho;\n",
    "- A ocorrência ou não num dado intervalo é independente da ocorrência ou não em outro intervalo.\n",
    "\n",
    "\n",
    "\n",
    "<div id=\"esperanca-variancia\"></div>\n",
    "\n",
    "### Esperança e Variância\n",
    "\n",
    "Se $X$~$Poisson(\\mu)$, o valor esperado $E(X)$ e a variância $Var(X)$ são dados por:\n",
    "\n",
    "$$E(X) = \\mu$$\n",
    "\n",
    "$$Var(X) = \\mu$$\n",
    "\n",
    "___\n",
    "\n",
    "<div id=\"erupcoes\"></div>\n",
    "\n",
    "# <font color='blue'>Base de Dados: Erupções</font> \n",
    "\n",
    "Kabum Prime é um planetinha no sistema solar de Zica-Centauri. O ano em Kabum Prime tem 50 dias. Em Kabum Prime existe um vulcão que entra em erupção diversas vezes por ano. Estamos no ano 10333 da nova era de Kabum Prime. Os cientistas kabunianos tabelaram as erupções do vulcão nos últimos 1000 anos kabunianos, e guardaram em um arquivo `\"erupcoes.csv\"`. Nesta tabela são registrados o **ano** e o **dia** em que cada erupção vulcânica ocorreu.\n",
    "\n",
    "Sabe-se que as erupções do vulcão acontecem independentemente: pode ser que tenhamos várias erupções por dia, pode ser que não tenhamos nenhuma, uma erupção não impacta a outra. Sabe-se também que o vulcão está permanentemente ativo, sempre com a mesma chance de irromper."
   ]
  },
  {
   "cell_type": "code",
   "execution_count": null,
   "metadata": {},
   "outputs": [],
   "source": [
    "%matplotlib inline\n",
    "import pandas as pd\n",
    "import matplotlib.pyplot as plt\n",
    "import numpy as np\n",
    "\n",
    "from scipy import stats #importa apenas as funções de estatísticas da biblioteca SciPy."
   ]
  },
  {
   "cell_type": "markdown",
   "metadata": {},
   "source": [
    "<div id=\"modelo-teorico\"></div>\n",
    "\n",
    "## Modelo teórico\n",
    "\n",
    "<div id=\"ex1\"></div>\n",
    "\n",
    "### EXERCÍCIO 1\n",
    "\n",
    "Assuma que a quantidade de erupções por ano possa ser ajustada pelo modelo de Poisson com parâmetro $\\mu=10$. Interprete esse parâmetro para o problema em questão e, ainda, discuta que hipóteses devem ser verdadeiras para que as propriedades da distribuição de Poisson sejam satisfeitas para o problema aqui me questão."
   ]
  },
  {
   "cell_type": "markdown",
   "metadata": {},
   "source": [
    "PREENCHA COM AS SUAS RESPOSTAS:\n",
    "\n",
    "- $\\mu = 10$: SUBSTITUA ESTE TEXTO PELA SUA INTERPRETAÇÃO DESTE PARÂMETRO\n",
    "\n",
    "As propriedades da distribuição de Poisson serão satisfeitas para o problema em questão se [COMPLETE COM A SUA RESPOSTA]"
   ]
  },
  {
   "cell_type": "markdown",
   "metadata": {},
   "source": [
    "<div id=\"ex2\"></div>\n",
    "\n",
    "### EXERCÍCIO 2\n",
    "\n",
    "<div id=\"pmf-stats\"></div>\n",
    "\n",
    "Consulte a [documentação dos métodos `stats.poisson.pmf` e `stats.poisson.cdf`](https://docs.scipy.org/doc/scipy-0.14.0/reference/generated/scipy.stats.poisson.html) (dica: o argumento `mu` é a média da Poisson). Utilizando esse método, calcule:\n",
    "\n",
    "1. A probabilidade de em um determinado ano ocorrerem exatamente 15 erupções;\n",
    "2. A probabilidade de em um determinado ano ocorrerem no máximo 15 erupções;\n",
    "3. A probabilidade de em um determinado ano ocorrerem pelo menos 15 erupções;\n",
    "\n",
    "Para serem consideradas corretas, suas respostas devem ser, respectivamente: 0.034718069630684245, 0.9512595966960213 e 0.0834584729346628."
   ]
  },
  {
   "cell_type": "code",
   "execution_count": null,
   "metadata": {},
   "outputs": [],
   "source": [
    "# ESCREVA SEU CÓDIGO AQUI"
   ]
  },
  {
   "cell_type": "markdown",
   "metadata": {},
   "source": [
    "<div id=\"ex3\"></div>\n",
    "\n",
    "### EXERCÍCIO 3\n",
    "\n",
    "O grande sábio e vidente Vaydar Ru-Im prevê que neste ano que se inicia teremos pelo menos 15 erupções - e ele nunca erra. Qual a probabilidade de que teremos um número recorde de erupções este ano, ou seja, mais do que 20 erupções?\n",
    "\n",
    "Para ser considerada correta, sua resposta deve ser 0.0190305502366599"
   ]
  },
  {
   "cell_type": "code",
   "execution_count": null,
   "metadata": {},
   "outputs": [],
   "source": [
    "# ESCREVA SEU CÓDIGO AQUI"
   ]
  },
  {
   "cell_type": "markdown",
   "metadata": {},
   "source": [
    "<div id=\"ex4\"></div>\n",
    "\n",
    "### EXERCÍCIO 4\n",
    "\n",
    "O mês kabuniano tem 5 dias (ou seja, o ano tem 10 meses). Se acontece uma erupção no mês, cada kabuniano ganha 100 dinheiros de indenização do governo. Se acontecem 2 erupções, cada kabuniano ganha 150 dinheiros de indenização. Por fim, se acontecem 3 ou mais erupções o governo paga 200 dinheiros de indenização a cada kabuniano. Qual o valor médio de indenizações por kabuniano em um mês? Qual o desvio-padrão?\n",
    "\n",
    "Para serem consideradas corretas, suas respostas devem ser, respectivamente: 80.43918161928124 e 67.52060476750192"
   ]
  },
  {
   "cell_type": "code",
   "execution_count": null,
   "metadata": {},
   "outputs": [],
   "source": [
    "# ESCREVA SEU CÓDIGO AQUI"
   ]
  },
  {
   "cell_type": "markdown",
   "metadata": {},
   "source": [
    "<div id=\"ex5\"></div>\n",
    "\n",
    "### EXERCÍCIO 5\n",
    "\n",
    "Utilizando o método `stats.poisson.pmf`, obtenha a probabilidade de ocorrerem 0, 1, ..., 25 erupções em um ano. Armazene as probabilidades em uma lista (para as quantidades de erupções de 0 a 25) e guarde esta lista em uma variável chamada `probabilidades_teoricas`."
   ]
  },
  {
   "cell_type": "code",
   "execution_count": null,
   "metadata": {},
   "outputs": [],
   "source": [
    "# ESCREVA SEU CÓDIGO AQUI"
   ]
  },
  {
   "cell_type": "markdown",
   "metadata": {},
   "source": [
    "<div id=\"resultados-empiricos\"></div>\n",
    "\n",
    "## Resultados empíricos\n",
    "\n",
    "Vamos utilizar os dados tabulados pelos cientistas kabulianos."
   ]
  },
  {
   "cell_type": "code",
   "execution_count": null,
   "metadata": {},
   "outputs": [],
   "source": [
    "erupcoes = pd.read_csv('erupcoes.csv')\n",
    "erupcoes.head()"
   ]
  },
  {
   "cell_type": "markdown",
   "metadata": {},
   "source": [
    "<div id=\"ex6\"></div>\n",
    "\n",
    "### EXERCÍCIO 6\n",
    "\n",
    "A tabela `erupcoes` contém os dados dos dias nos quais ocorreu uma erupção, mas estamos interessados neste momento pela quantidade de erupções que ocorreram **em cada ano**. Para isso, calcule a tabela de frequências **absolutas** do número de erupções **por ano**. Armazene essa tabela em uma variável chamada `erupcoes_por_ano`."
   ]
  },
  {
   "cell_type": "code",
   "execution_count": null,
   "metadata": {},
   "outputs": [],
   "source": [
    "# ESCREVA SEU CÓDIGO AQUI"
   ]
  },
  {
   "cell_type": "markdown",
   "metadata": {},
   "source": [
    "<div id=\"ex7\"><div>\n",
    "    \n",
    "### EXERCÍCIO 7\n",
    "\n",
    "Gere uma tabela de frequências relativas da quantidade de erupções por ano. Armazene essa tabela em uma variável chamada `frequencias_relativas`. **Observação:** utilize o método `.sort_index()` no resultado do `.value_counts()` para corrigir a ordenação."
   ]
  },
  {
   "cell_type": "code",
   "execution_count": null,
   "metadata": {},
   "outputs": [],
   "source": [
    "# ESCREVA SEU CÓDIGO AQUI"
   ]
  },
  {
   "cell_type": "markdown",
   "metadata": {},
   "source": [
    "<div id=\"ex8\"></div>\n",
    "\n",
    "### EXERCÍCIO 8\n",
    "\n",
    "Baseado nos dados, qual o percentual dos anos que tem pelo menos $15$ erupções? "
   ]
  },
  {
   "cell_type": "code",
   "execution_count": null,
   "metadata": {},
   "outputs": [],
   "source": [
    "# ESCREVA SEU CÓDIGO AQUI"
   ]
  },
  {
   "cell_type": "markdown",
   "metadata": {},
   "source": [
    "<div id=\"comparacao\"></div>\n",
    "\n",
    "## Comparação: resultados empíricos *vs* modelo teórico"
   ]
  },
  {
   "cell_type": "markdown",
   "metadata": {},
   "source": [
    "<div id=\"ex9\"></div>\n",
    "\n",
    "### EXERCÍCIO 9\n",
    "\n",
    "Qual é a média de erupções por ano? O parâmetro $\\mu$ utilizado no [modelo teórico](#modelo-teorico) é razoável? Justifique."
   ]
  },
  {
   "cell_type": "code",
   "execution_count": null,
   "metadata": {},
   "outputs": [],
   "source": [
    "# ESCREVA SEU CÓDIGO AQUI"
   ]
  },
  {
   "cell_type": "markdown",
   "metadata": {},
   "source": [
    "<div id=\"ex10\"></div>\n",
    "\n",
    "### EXERCÍCIO 10\n",
    "\n",
    "Compare as probabilidades teóricas ([exercício 5](#ex5)) com as frequências relativas observadas nos dados ([exercício 7](#ex7)) utilizando o gráfico da opção 1 da atividade da aula passada (aula 09). Baseado nessa visualização, discuta se você acha razoável ou não modelar a quantidade de erupções por ano como uma Poisson."
   ]
  },
  {
   "cell_type": "code",
   "execution_count": null,
   "metadata": {},
   "outputs": [],
   "source": [
    "# ESCREVA SEU CÓDIGO AQUI"
   ]
  },
  {
   "cell_type": "markdown",
   "metadata": {},
   "source": [
    "<div id=\"ex-extra\"></div>\n",
    "<div id=\"ppf\"></div>\n",
    "\n",
    "### EXERCÍCIO EXTRA\n",
    "\n",
    "A cada erupção cada kabuniano tem uma chance $p=10^{-3}$ de ficar azul. Neste caso ele tem que ir ao Grande Hospital de Kabum para voltar a cor normal. Existem 100 mil kabunianos. Qual o número de vagas no hospital para atender corretamente a todos os kabunianos necessitados em 99% das erupções? \n",
    "\n",
    "Para ser considerada correta, sua resposta deve ser 124.\n",
    "\n",
    "**Dica 1:** reflita sobre qual distribuição deve ser utilizada para modelar essa questão;\n",
    "**Dica 2:** métodos `.ppf` calculam o inverso dos métodos `.cdf`. Por exemplo: `stats.poisson.cdf(15, mu=10)` é aproximadamente `0.95` e `stats.poisson.ppf(0.95, mu=10)` é aproximadamente `15`."
   ]
  },
  {
   "cell_type": "code",
   "execution_count": null,
   "metadata": {},
   "outputs": [],
   "source": [
    "# ESCREVA SEU CÓDIGO AQUI"
   ]
  },
  {
   "cell_type": "markdown",
   "metadata": {},
   "source": [
    "<div id=\"comandos\"></div>\n",
    "\n",
    "___\n",
    "\n",
    "## Lista de comandos utilizados neste notebook\n",
    "\n",
    "Os seguintes comandos foram utilizados neste jupyter notebook. Para facilitar sua consulta, escreva um resumo do que cada um deles faz:\n",
    "\n",
    "- [`.pmf`](#pmf-stats): ESCREVA AQUI O RESUMO\n",
    "- [`.mean`](#pmf-stats): ESCREVA AQUI O RESUMO\n",
    "- [`.var`](#pmf-stats): ESCREVA AQUI O RESUMO\n",
    "- [`.ppf`](#ppf): ESCREVA AQUI O RESUMO"
   ]
  }
 ],
 "metadata": {
  "kernelspec": {
   "display_name": "Python 3",
   "language": "python",
   "name": "python3"
  },
  "language_info": {
   "codemirror_mode": {
    "name": "ipython",
    "version": 3
   },
   "file_extension": ".py",
   "mimetype": "text/x-python",
   "name": "python",
   "nbconvert_exporter": "python",
   "pygments_lexer": "ipython3",
   "version": "3.7.1"
  }
 },
 "nbformat": 4,
 "nbformat_minor": 2
}
