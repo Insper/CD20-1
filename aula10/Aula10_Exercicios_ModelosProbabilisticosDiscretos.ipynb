{
 "cells": [
  {
   "cell_type": "markdown",
   "metadata": {},
   "source": [
    "___\n",
    "# Exercícios: Modelos probabilísticos discretos\n",
    "___\n",
    "\n",
    "## Aula 10 - Exercícios\n",
    "\n",
    "<div id=\"indice\"></div>\n",
    "\n",
    "## Índice\n",
    "\n",
    "  - [Exercício 1](#ex1)\n",
    "  - [Exercício 2](#ex2)\n",
    "  - [Exercício 3](#ex3)\n",
    "  - [Exercício 4](#ex4)\n",
    "\n",
    "___"
   ]
  },
  {
   "cell_type": "code",
   "execution_count": null,
   "metadata": {},
   "outputs": [],
   "source": [
    "from scipy import stats #importa apenas as funções de estatísticas da biblioteca SciPy."
   ]
  },
  {
   "cell_type": "markdown",
   "metadata": {},
   "source": [
    "<div id=\"ex1\"></div>\n",
    "\n",
    "### EXERCÍCIO 1\n",
    "\n",
    "Um pendrive permite 60 minutos de gravação de um vídeo em qualidade full HD. Sabe-se que defeitos de fabricação surgem a uma taxa de 1,2 a cada 10 horas de gravação. **Preencha as respostas dos itens a, b, c na APS 6 (via Blackboard).**\n",
    "\n",
    "a) Qual é a probabilidade de um pendrive apresentar defeito de fabricação? \n",
    "\n",
    "b) Sabendo que um pendrive apresentou defeito, qual a probabilidade de que ele tenha no máximo dois defeitos? \n",
    "\n",
    "c) Uma pessoa compra uma embalagem com 10 pendrives. Qual é a probabilidade de pelo menos 3 apresentarem defeito de fabricação? \n",
    "\n",
    "d) Quais suposições você fez para responder os itens (a) e (c)?\n"
   ]
  },
  {
   "cell_type": "code",
   "execution_count": null,
   "metadata": {},
   "outputs": [],
   "source": [
    "# ESCREVA SUA RESPOSTA AQUI"
   ]
  },
  {
   "cell_type": "markdown",
   "metadata": {},
   "source": [
    "<div id=\"ex2\"></div>\n",
    "\n",
    "### EXERCÍCIO 2\n",
    "\n",
    "Uma das responsabilidades da área de Tecnologia da Informação (TI) de uma empresa é controlar o fluxo de mensagens eletrônicas e detectar a presença de SPAMs (mensagens não desejadas). \n",
    "Os responsáveis pela área de TI de uma empresa detectaram que um funcionário recebe no seu e-mail individual da empresa, em média, 0,75 SPAM por dia. Assuma que os SPAMs são enviados de forma independente para cada funcionário da empresa. \n",
    "\n",
    "a) Qual a probabilidade de um funcionário receber SPAM em um dia?\n",
    "\n",
    "b) Sabendo que um funcionário recebeu SPAM em uma semana, qual a probabilidade de receber entre 10 e 15 SPAMs nessa semana?\n",
    "\n",
    "c) Selecionando 40 funcionários aleatoriamente (e considerando que os funcionários recebem ou não SPAMs de forma independente um do outro), qual é a probabilidade de vinte deles receberem SPAM no seu e-mail individual em um dia qualquer? \n"
   ]
  },
  {
   "cell_type": "code",
   "execution_count": null,
   "metadata": {},
   "outputs": [],
   "source": [
    "# ESCREVA SUA RESPOSTA AQUI"
   ]
  },
  {
   "cell_type": "markdown",
   "metadata": {},
   "source": [
    "<div id=\"ex3\"></div>\n",
    "\n",
    "### EXERCÍCIO 3\n",
    "\n",
    "Uma rede congestionada de computadores tem 1% de probabilidade de perder um bloco de dados, e perdas de blocos são eventos independentes. Uma mensagem de e-mail requer 100 blocos de dados. \n",
    "\n",
    "a) Qual a distribuição do número de blocos de dados que devem ser reenviados em uma mensagem de e-mail? Inclua os valores dos parâmetros.\n",
    "\n",
    "b) Qual é a probabilidade de no mínimo um bloco ter de ser reenviado?\n",
    "\n",
    "c) Sabendo que no mínimo um bloco precisa ser reenviado, qual a probabilidade de dois ou mais serem reenviados?\n",
    "\n",
    "d) Quais são a média e o desvio padrão do número de blocos que devem ser reenviados?\n"
   ]
  },
  {
   "cell_type": "code",
   "execution_count": null,
   "metadata": {},
   "outputs": [],
   "source": [
    "# ESCREVA SUA RESPOSTA AQUI"
   ]
  },
  {
   "cell_type": "markdown",
   "metadata": {},
   "source": [
    "<div id=\"ex4\"></div>\n",
    "\n",
    "### EXERCÍCIO 4\n",
    "\n",
    "O número médio de clientes satisfeitos com o atendimento de uma loja, em amostras de 40 clientes escolhidos ao acaso, é de 5,5. \n",
    "\n",
    "Qual é a probabilidade de, numa amostra de 40 clientes escolhidos ao acaso, encontrarmos pelo menos 2 satisfeitos?\n"
   ]
  },
  {
   "cell_type": "code",
   "execution_count": null,
   "metadata": {},
   "outputs": [],
   "source": [
    "# ESCREVA SUA RESPOSTA AQUI"
   ]
  }
 ],
 "metadata": {
  "anaconda-cloud": {},
  "kernelspec": {
   "display_name": "Python 3",
   "language": "python",
   "name": "python3"
  },
  "language_info": {
   "codemirror_mode": {
    "name": "ipython",
    "version": 3
   },
   "file_extension": ".py",
   "mimetype": "text/x-python",
   "name": "python",
   "nbconvert_exporter": "python",
   "pygments_lexer": "ipython3",
   "version": "3.7.1"
  }
 },
 "nbformat": 4,
 "nbformat_minor": 1
}
