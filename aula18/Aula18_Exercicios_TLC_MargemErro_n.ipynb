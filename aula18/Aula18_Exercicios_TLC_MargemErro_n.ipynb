{
 "cells": [
  {
   "cell_type": "markdown",
   "metadata": {},
   "source": [
    "\n",
    "___\n",
    "# Exercícios: TLC, Erro Amostral, Margem de erro e Tamanho Amostral\n",
    "___\n",
    "\n",
    "## Aula 18 - Exercícios\n",
    "\n",
    "<div id=\"indice\"></div>\n",
    "\n",
    "## Índice\n",
    "\n",
    "- [Tomando decisões com TLC](#tomando-decisoes)\n",
    "- [Tempo de espera na fila do *check-in*](#tempoespera)\n",
    "___"
   ]
  },
  {
   "cell_type": "code",
   "execution_count": null,
   "metadata": {},
   "outputs": [],
   "source": [
    "%matplotlib inline\n",
    "import matplotlib.pyplot as plt\n",
    "import pandas as pd\n",
    "import numpy as np\n",
    "from scipy import stats\n",
    "\n",
    "from math import sqrt"
   ]
  },
  {
   "cell_type": "markdown",
   "metadata": {},
   "source": [
    "<div id=\"tomando-decisoes\"></div>\n",
    "\n",
    "## Tomando decisões com uso do TLC\n",
    "\n",
    "Vamos considerar agora um exemplo (baseado no Exemplo 7-1 Montgomery). \n",
    "\n",
    "Um fabricante de componentes eletrônicos afirma que os resistores produzidos por ele possuem uma resistência média de $100 \\Omega$ e um desvio padrão de $2 \\Omega$. A distribuição da resistência de cada resistor é normal.\n",
    "\n",
    "Antes de fechar uma grande compra com esse fabricante, considerando seus conhecimentos adquiridos ao longo da graduação no Insper, você decidiu solicitar uma pequena amostra de 25 resistores para realizar um teste de qualidade. O objetivo desta parte da atividade é decidir se você confia ou não na palavra do fabricante.\n",
    "\n",
    "Considere aqui o valor de $\\sigma=2$ teórica não esteja sendo questionado sobre a qualidade do fabricante.\n",
    "\n",
    "a) Seja $\\overline{X}$ a resistência média de uma amostra com 25 resistores selecionados aleatoriamente. De acordo com o TLC, qual é a distribuição de probabilidades de $\\overline{X}$ (qual distribuição e quais os seus respectivos parâmetros)?\n",
    "\n",
    "b) Construa um gráfico para visualizar a distribuição $X$ e de $\\overline{X}$.\n",
    "\n",
    "c) Assuma que o fabricante esteja produzindo resistores com $\\mu=100 \\Omega$. Assim, qual deve ser a região de valores de médias amostrais, todas com $n=25$, que contemplam $90\\%$ das possíveis médias amostrais mais próximas de $\\mu$.\n",
    "Neste item, consulte o comando `stats.norm.interval()` explicado [aqui](https://docs.scipy.org/doc/scipy/reference/generated/scipy.stats.norm.html).\n",
    "\n",
    "\n",
    "d) Considerando o resultado do item anterior, obtenha a margem de erro quando $\\mu=100 \\Omega$, $n=25$ e coeficiente de confiança igual a $90\\%$.\n",
    "\n",
    "e) Se uma amostra de 25 resistores é coletada e a média amostral calculada é igual a $\\overline{x}=98.929451$. Com $90\\%$ de confianca, você acredita que essa amostra foi coletada de um população cuja verdadeira média é $\\mu=100\\Omega$? Ou seja, voce confia no fabricante?\n",
    "\n",
    "<a href=\"#respostas1\">Respostas</a>"
   ]
  },
  {
   "cell_type": "code",
   "execution_count": null,
   "metadata": {},
   "outputs": [],
   "source": [
    "# ESCREVA SUA RESPOSTA AQUI"
   ]
  },
  {
   "cell_type": "code",
   "execution_count": null,
   "metadata": {},
   "outputs": [],
   "source": []
  },
  {
   "cell_type": "code",
   "execution_count": null,
   "metadata": {},
   "outputs": [],
   "source": []
  },
  {
   "cell_type": "markdown",
   "metadata": {},
   "source": [
    "___\n",
    "\n",
    "<div id=\"tempofila\"></div>\n",
    "\n",
    "## Tempo de espera na fila\n",
    "\n",
    "(Baseado no Exercício 7-12 Montgomery). \n",
    "\n",
    "O tempo que um consumidor esperando na fila de *check-in* de um aeroporto é uma variável aleatória com média de $\\mu$ minutos e desvio padrão de $3.5$ minuto.\n",
    "Suponha que uma amostra aleatória de $49$ consumidores seja observada.\n",
    "\n",
    "a) Seja $\\overline{X}$ o tempo médio de espera na fila de *check-in* considerando uma amostra de 49 consumidores selecionados aleatoriamente. Qual é a distribuição de probabilidades de $\\overline{X}$ (qual distribuição e quais os seus respectivos parâmetros)? Aqui foi feito uso do TLC? Justifique porquê.\n",
    "\n",
    "b) Assuma que $\\mu=8.2$ minutos. Encontre a probabilidade de que o tempo médio de espera na fila seja:\n",
    "  * Menor do que 10 minutos\n",
    "  * Entre 8 e 10 minutos\n",
    "  * Maior do que 9 minutos\n",
    "\n",
    "c) Assuma que $\\mu=8.2$ minutos. Assim, qual deve ser a região de valores de médias amostrais, todas com $n=49$, que contemplam $95\\%$ das possíveis médias amostrais mais próximas de $\\mu$.\n",
    "\n",
    "d) Considerando o resultado do item anterior, obtenha a margem de erro quando $\\mu=8.2$ minutos, $n=49$ e coeficiente de confiança igual a $95\\%$.\n",
    "\n",
    "e) Considerando agora que $\\mu$ é desconhecido, obtenha a margem de erro quando $n=49$ e coeficiente de confiança igual a $95\\%$.\n",
    "\n",
    "f) Qual deveria ser o tamanho da amostra, para ter margem de erro de $0.5$ minutos e coeficiente de confiança igual a $95\\%$.\n",
    "\n",
    "<a href=\"#respostas2\">Respostas</a>"
   ]
  },
  {
   "cell_type": "code",
   "execution_count": null,
   "metadata": {},
   "outputs": [],
   "source": [
    "# ESCREVA SUA RESPOSTA AQUI"
   ]
  },
  {
   "cell_type": "code",
   "execution_count": null,
   "metadata": {},
   "outputs": [],
   "source": []
  },
  {
   "cell_type": "code",
   "execution_count": null,
   "metadata": {},
   "outputs": [],
   "source": []
  },
  {
   "cell_type": "markdown",
   "metadata": {},
   "source": [
    "<div id=\"respostas\"></div>\n",
    "\n",
    "---\n",
    "# Respostas\n",
    "\n",
    "<a href=\"#indice\">Voltar para o índice</a>\n",
    "\n",
    "<div id=\"respostas1\"></div>\n",
    "\n",
    "### Respostas do exercício - Tomando decisões com TLC\n",
    "\n",
    "**item a)** Normal(100, 0.16)\n",
    "\n",
    "**item b)** São gráficos semelhantes a esses:\n",
    "\n",
    "![](./fig_exerc1_itemb.png)\n",
    "\n",
    "\n",
    "**item c)** A região de 90% das possíveis médias amostrais mais próximas de mu=100 vai de: \n",
    "99.3421 até 100.658\n",
    "\n",
    "**item d)** \n",
    "A margem de erro é o maior erro, para mais ou para menos, que uma média amostral pode ter para estimar $\\mu$,\n",
    "quando considera 90% das possíveis médias amostrais mais próximos do verdadeiro valor ($\\mu$).\n",
    "  * A margem de erro baseada na maior distância aquém de $\\mu$ é: -0.657941\n",
    "  * A margem de erro baseada na maior distância além de $\\mu$ é: 0.657941\n",
    "\n",
    "\n",
    "**item e)** Como xbarra=98.929451 está aquém da menor média, então não confio, com 90% de confiança.\n",
    "\n",
    "\n",
    "<a href=\"#tomando-decisoes\">Voltar para enunciado</a>\n",
    "\n",
    "\n",
    "\n",
    "<div id=\"respostas2\"></div>\n",
    "\n",
    "### Respostas do exercício - Tempo de espera na fila do *check-in*\n",
    "\n",
    "**item a)** \n",
    "$\\overline{X}$ ~ Normal($\\mu$, 12.25/49) ou, equivalente, $\\overline{X}$ ~ Normal($\\mu$, 0.25)\n",
    "\n",
    "**item b)** \n",
    "* P($\\overline{X}$ < 10) = 0.99984\n",
    "* P(8 < $\\overline{X}$ < 10) = 0.65526\n",
    "* P($\\overline{X}$ > 9) = 0.054799\n",
    "\n",
    "\n",
    "**item c)** A região de 95% das possíveis médias amostrais mais próximas de mu=8.2 vai de: \n",
    "7.22002 até 9.17998\n",
    "\n",
    "\n",
    "**item d)** \n",
    "A margem de erro é o maior erro, para mais ou para menos, que uma média amostral pode ter para estimar $\\mu$,\n",
    "quando considera 95% das possíveis médias amostrais mais próximos do verdadeiro valor ($\\mu$).\n",
    "  * A margem de erro baseada na maior distância aquém de $\\mu$ é: -0.979982\n",
    "  * A margem de erro baseada na maior distância além de $\\mu$ é: 0.979982\n",
    "\n",
    "\n",
    "**item e)** A margem de erro mantendo $n=49$ e 95% de confiança é 0.979982\n",
    "\n",
    "\n",
    "**item f)** Tamanho da amostra para margem de erro de 0.5 minuto mantendo 95% de confiança é 188.\n",
    "\n",
    "<a href=\"#tempoespera\">Voltar para enunciado</a>\n",
    "\n",
    "___\n",
    "\n"
   ]
  }
 ],
 "metadata": {
  "hide_input": false,
  "kernelspec": {
   "display_name": "Python 3",
   "language": "python",
   "name": "python3"
  },
  "language_info": {
   "codemirror_mode": {
    "name": "ipython",
    "version": 3
   },
   "file_extension": ".py",
   "mimetype": "text/x-python",
   "name": "python",
   "nbconvert_exporter": "python",
   "pygments_lexer": "ipython3",
   "version": "3.7.1"
  }
 },
 "nbformat": 4,
 "nbformat_minor": 2
}
